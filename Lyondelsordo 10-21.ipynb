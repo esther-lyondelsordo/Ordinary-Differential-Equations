{
 "cells": [
  {
   "cell_type": "markdown",
   "metadata": {},
   "source": [
    "<h3>\n",
    "    Simeod RLC Circuits.  Eric:  Good job 3/3.\n",
    "</h3>\n",
    "(*) $$\\frac{dI^2(t)}{dt^2} + 7\\frac{dI(t)}{dt} + 10 I(t) = 0$$\n",
    "i) Solve the RLC circuit differential equation (*) for I(t)."
   ]
  },
  {
   "cell_type": "code",
   "execution_count": 33,
   "metadata": {},
   "outputs": [
    {
     "name": "stdout",
     "output_type": "stream",
     "text": [
      "The G.S. is I(t) =\n"
     ]
    },
    {
     "data": {
      "text/html": [
       "<html><script type=\"math/tex; mode=display\">\\newcommand{\\Bold}[1]{\\mathbf{#1}}K_{1} e^{\\left(-2 \\, t\\right)} + K_{2} e^{\\left(-5 \\, t\\right)}</script></html>"
      ],
      "text/plain": [
       "_K1*e^(-2*t) + _K2*e^(-5*t)"
      ]
     },
     "execution_count": 33,
     "metadata": {},
     "output_type": "execute_result"
    },
    {
     "data": {
      "text/plain": [
       "(None, None)"
      ]
     },
     "execution_count": 33,
     "metadata": {},
     "output_type": "execute_result"
    }
   ],
   "source": [
    "#using x for I\n",
    "t = var('t')\n",
    "x = function('x')(t)\n",
    "\n",
    "de1 = lambda y: diff(y,t,2) + 7*diff(y,t) + 10*y\n",
    "s1 = desolve(de1(x),[x,t])\n",
    "print(\"The G.S. is I(t) =\"),s1.show()"
   ]
  },
  {
   "cell_type": "code",
   "execution_count": 34,
   "metadata": {},
   "outputs": [
    {
     "name": "stdout",
     "output_type": "stream",
     "text": [
      "The derivative is I'(t) =\n"
     ]
    },
    {
     "data": {
      "text/html": [
       "<html><script type=\"math/tex; mode=display\">\\newcommand{\\Bold}[1]{\\mathbf{#1}}-2 \\, K_{1} e^{\\left(-2 \\, t\\right)} - 5 \\, K_{2} e^{\\left(-5 \\, t\\right)}</script></html>"
      ],
      "text/plain": [
       "-2*_K1*e^(-2*t) - 5*_K2*e^(-5*t)"
      ]
     },
     "execution_count": 34,
     "metadata": {},
     "output_type": "execute_result"
    },
    {
     "data": {
      "text/plain": [
       "(None, None)"
      ]
     },
     "execution_count": 34,
     "metadata": {},
     "output_type": "execute_result"
    }
   ],
   "source": [
    "ds1 = diff(s1,t)\n",
    "print(\"The derivative is I'(t) =\"),ds1.show()"
   ]
  },
  {
   "cell_type": "code",
   "execution_count": 35,
   "metadata": {},
   "outputs": [
    {
     "data": {
      "text/plain": [
       "[A == -B + 16/5]"
      ]
     },
     "execution_count": 35,
     "metadata": {},
     "output_type": "execute_result"
    }
   ],
   "source": [
    "A = var('A')\n",
    "B = var('B')\n",
    "solve(A*e^(-2*0)+B*e^(-5*0)==3.2,A)"
   ]
  },
  {
   "cell_type": "code",
   "execution_count": 36,
   "metadata": {},
   "outputs": [
    {
     "data": {
      "text/plain": [
       "[B == -2/5*A]"
      ]
     },
     "execution_count": 36,
     "metadata": {},
     "output_type": "execute_result"
    }
   ],
   "source": [
    "solve(-2*A*e^(-2*0) - 5*B*e^(-5*0)==0, B)"
   ]
  },
  {
   "cell_type": "code",
   "execution_count": 37,
   "metadata": {},
   "outputs": [
    {
     "data": {
      "text/plain": [
       "[B == (-32/15)]"
      ]
     },
     "execution_count": 37,
     "metadata": {},
     "output_type": "execute_result"
    }
   ],
   "source": [
    "solve(-(2/5)*(-B+(16/5)) - B == 0, B)"
   ]
  },
  {
   "cell_type": "code",
   "execution_count": 38,
   "metadata": {},
   "outputs": [
    {
     "data": {
      "text/plain": [
       "[A == (16/3)]"
      ]
     },
     "execution_count": 38,
     "metadata": {},
     "output_type": "execute_result"
    }
   ],
   "source": [
    "solve((32/15)+(16/5)-A == 0, A)"
   ]
  },
  {
   "cell_type": "markdown",
   "metadata": {},
   "source": [
    "So, the G.S. is $$I(t) = \\frac{16}{3}e^{-2t} - \\frac{32}{3}e^{-5t}$$"
   ]
  },
  {
   "cell_type": "markdown",
   "metadata": {},
   "source": [
    "ii) Consider the values of R to be 0.007, 0.07, 0.7, 70, and then 700, and solve (9) in each case, keeping all other values the same, and plot the solution for the current in the circuit over the time interval [0, 25] s with a vertical plot interval [−3, 3]. Identify each plot with its associated R value and describe what is happening to the current, I(t), in each corresponding circuit over time, t.\n",
    "<p>\n",
    "    a) R = 0.007, $$\\frac{dI^2(t)}{dt^2} + 0.007\\frac{dI(t)}{dt} + 10 I(t) = 0$$\n",
    "</p>"
   ]
  },
  {
   "cell_type": "code",
   "execution_count": 1,
   "metadata": {
    "scrolled": true
   },
   "outputs": [
    {
     "data": {
      "text/plain": [
       "(_K2*cos(3/2000*sqrt(4444439)*t) + _K1*sin(3/2000*sqrt(4444439)*t))*e^(-7/2000*t)"
      ]
     },
     "execution_count": 1,
     "metadata": {},
     "output_type": "execute_result"
    }
   ],
   "source": [
    "#using x for I\n",
    "t = var('t')\n",
    "x = function('x')(t)\n",
    "\n",
    "de2 = lambda y: diff(y,t,2) + 0.007*diff(y,t) + 10*y\n",
    "desolve(de2(x),[x,t])"
   ]
  },
  {
   "cell_type": "code",
   "execution_count": 2,
   "metadata": {},
   "outputs": [
    {
     "data": {
      "text/plain": [
       "3/2000*(sqrt(4444439)*_K1*cos(3/2000*sqrt(4444439)*t) - sqrt(4444439)*_K2*sin(3/2000*sqrt(4444439)*t))*e^(-7/2000*t) - 7/2000*(_K2*cos(3/2000*sqrt(4444439)*t) + _K1*sin(3/2000*sqrt(4444439)*t))*e^(-7/2000*t)"
      ]
     },
     "execution_count": 2,
     "metadata": {},
     "output_type": "execute_result"
    }
   ],
   "source": [
    "s2 = desolve(de2(x),[x,t])\n",
    "diff(s2,t)"
   ]
  },
  {
   "cell_type": "code",
   "execution_count": 7,
   "metadata": {},
   "outputs": [
    {
     "data": {
      "text/plain": [
       "[B == (16/5)]"
      ]
     },
     "execution_count": 7,
     "metadata": {},
     "output_type": "execute_result"
    }
   ],
   "source": [
    "A = var('A')\n",
    "B = var('B')\n",
    "\n",
    "solve((B*cos(3/2000*sqrt(4444439)*0) + A*sin(3/2000*sqrt(4444439)*0))*e^(-7/2000*0)==3.2, B)"
   ]
  },
  {
   "cell_type": "code",
   "execution_count": 8,
   "metadata": {},
   "outputs": [
    {
     "data": {
      "text/plain": [
       "[A == 7/13333317*sqrt(4444439)*B]"
      ]
     },
     "execution_count": 8,
     "metadata": {},
     "output_type": "execute_result"
    }
   ],
   "source": [
    "solve(3/2000*(sqrt(4444439)*A*cos(3/2000*sqrt(4444439)*0) - sqrt(4444439)*B*sin(3/2000*sqrt(4444439)*0))*e^(-7/2000*0) - 7/2000*(B*cos(3/2000*sqrt(4444439)*0) + A*sin(3/2000*sqrt(4444439)*0))*e^(-7/2000*0)==0, A)"
   ]
  },
  {
   "cell_type": "code",
   "execution_count": 9,
   "metadata": {},
   "outputs": [
    {
     "data": {
      "text/plain": [
       "[A == 112/66666585*sqrt(4444439)]"
      ]
     },
     "execution_count": 9,
     "metadata": {},
     "output_type": "execute_result"
    }
   ],
   "source": [
    "solve(7/13333317*sqrt(4444439)*(16/5)-A==0, A)"
   ]
  },
  {
   "cell_type": "code",
   "execution_count": 11,
   "metadata": {},
   "outputs": [
    {
     "data": {
      "image/png": "[encoded data removed]",
      "text/plain": [
       "Graphics object consisting of 1 graphics primitive"
      ]
     },
     "execution_count": 11,
     "metadata": {},
     "output_type": "execute_result"
    }
   ],
   "source": [
    "y = ((16/5)*cos(3/2000*sqrt(4444439)*t) + (112/66666585*sqrt(4444439))*sin(3/2000*sqrt(4444439)*t))*e^(-7/2000*t)\n",
    "plot(y,(t,0,25))"
   ]
  },
  {
   "cell_type": "markdown",
   "metadata": {},
   "source": [
    "This graph shows that the current can be modelled by sinusoidal function and that the amplitude of the current is decreasing slowly over time."
   ]
  },
  {
   "cell_type": "markdown",
   "metadata": {},
   "source": [
    "b) R = 0.07, $$\\frac{dI^2(t)}{dt^2} + 0.07\\frac{dI(t)}{dt} + 10 I(t) = 0$$"
   ]
  },
  {
   "cell_type": "code",
   "execution_count": 1,
   "metadata": {},
   "outputs": [
    {
     "data": {
      "text/plain": [
       "(_K2*cos(3/200*sqrt(44439)*t) + _K1*sin(3/200*sqrt(44439)*t))*e^(-7/200*t)"
      ]
     },
     "execution_count": 1,
     "metadata": {},
     "output_type": "execute_result"
    }
   ],
   "source": [
    "#using x for I\n",
    "t = var('t')\n",
    "x = function('x')(t)\n",
    "\n",
    "de3 = lambda y: diff(y,t,2) + 0.07*diff(y,t) + 10*y\n",
    "desolve(de3(x),[x,t])"
   ]
  },
  {
   "cell_type": "code",
   "execution_count": 2,
   "metadata": {},
   "outputs": [
    {
     "data": {
      "text/plain": [
       "3/200*(sqrt(44439)*_K1*cos(3/200*sqrt(44439)*t) - sqrt(44439)*_K2*sin(3/200*sqrt(44439)*t))*e^(-7/200*t) - 7/200*(_K2*cos(3/200*sqrt(44439)*t) + _K1*sin(3/200*sqrt(44439)*t))*e^(-7/200*t)"
      ]
     },
     "execution_count": 2,
     "metadata": {},
     "output_type": "execute_result"
    }
   ],
   "source": [
    "s3 = desolve(de3(x),[x,t])\n",
    "diff(s3,t)"
   ]
  },
  {
   "cell_type": "code",
   "execution_count": 3,
   "metadata": {},
   "outputs": [
    {
     "data": {
      "text/plain": [
       "[B == (16/5)]"
      ]
     },
     "execution_count": 3,
     "metadata": {},
     "output_type": "execute_result"
    }
   ],
   "source": [
    "A = var('A')\n",
    "B = var('B')\n",
    "\n",
    "solve((B*cos(3/200*sqrt(44439)*0) + A*sin(3/200*sqrt(44439)*0))*e^(-7/200*0)==3.2, B)"
   ]
  },
  {
   "cell_type": "code",
   "execution_count": 4,
   "metadata": {},
   "outputs": [
    {
     "data": {
      "text/plain": [
       "[A == 7/133317*sqrt(44439)*B]"
      ]
     },
     "execution_count": 4,
     "metadata": {},
     "output_type": "execute_result"
    }
   ],
   "source": [
    "solve(3/200*(sqrt(44439)*A*cos(3/200*sqrt(44439)*0) - sqrt(44439)*B*sin(3/200*sqrt(44439)*0))*e^(-7/200*0) - 7/200*(B*cos(3/200*sqrt(44439)*0) + A*sin(3/200*sqrt(44439)*0))*e^(-7/200*0)==0, A)"
   ]
  },
  {
   "cell_type": "code",
   "execution_count": 5,
   "metadata": {},
   "outputs": [
    {
     "data": {
      "text/plain": [
       "[A == 112/666585*sqrt(44439)]"
      ]
     },
     "execution_count": 5,
     "metadata": {},
     "output_type": "execute_result"
    }
   ],
   "source": [
    "solve(7/133317*sqrt(44439)*(16/5) - A == 0, A)"
   ]
  },
  {
   "cell_type": "code",
   "execution_count": 6,
   "metadata": {},
   "outputs": [
    {
     "data": {
      "image/png": "[encoded data removed]",
      "text/plain": [
       "Graphics object consisting of 1 graphics primitive"
      ]
     },
     "execution_count": 6,
     "metadata": {},
     "output_type": "execute_result"
    }
   ],
   "source": [
    "y = ((16/5)*cos(3/200*sqrt(44439)*t) + (112/666585*sqrt(44439))*sin(3/200*sqrt(44439)*t))*e^(-7/200*t)\n",
    "plot(y, (t,0,25))"
   ]
  },
  {
   "cell_type": "markdown",
   "metadata": {},
   "source": [
    "With this resistance, the amplitude of the current decreases much faster over time."
   ]
  },
  {
   "cell_type": "markdown",
   "metadata": {},
   "source": [
    "c) R = 0.7, $$\\frac{dI^2(t)}{dt^2} + 0.7\\frac{dI(t)}{dt} + 10 I(t) = 0$$"
   ]
  },
  {
   "cell_type": "code",
   "execution_count": 8,
   "metadata": {},
   "outputs": [
    {
     "data": {
      "text/plain": [
       "(_K2*cos(3/20*sqrt(439)*t) + _K1*sin(3/20*sqrt(439)*t))*e^(-7/20*t)"
      ]
     },
     "execution_count": 8,
     "metadata": {},
     "output_type": "execute_result"
    }
   ],
   "source": [
    "#using x for I\n",
    "t = var('t')\n",
    "x = function('x')(t)\n",
    "\n",
    "de4 = lambda y: diff(y,t,2) + 0.7*diff(y,t) + 10*y\n",
    "desolve(de4(x),[x,t])"
   ]
  },
  {
   "cell_type": "code",
   "execution_count": 9,
   "metadata": {},
   "outputs": [
    {
     "data": {
      "text/plain": [
       "3/20*(sqrt(439)*_K1*cos(3/20*sqrt(439)*t) - sqrt(439)*_K2*sin(3/20*sqrt(439)*t))*e^(-7/20*t) - 7/20*(_K2*cos(3/20*sqrt(439)*t) + _K1*sin(3/20*sqrt(439)*t))*e^(-7/20*t)"
      ]
     },
     "execution_count": 9,
     "metadata": {},
     "output_type": "execute_result"
    }
   ],
   "source": [
    "s4 = desolve(de4(x),[x,t])\n",
    "diff(s4,t)"
   ]
  },
  {
   "cell_type": "code",
   "execution_count": 10,
   "metadata": {},
   "outputs": [
    {
     "data": {
      "text/plain": [
       "[B == (16/5)]"
      ]
     },
     "execution_count": 10,
     "metadata": {},
     "output_type": "execute_result"
    }
   ],
   "source": [
    "A = var('A')\n",
    "B = var('B')\n",
    "\n",
    "solve((B*cos(3/20*sqrt(439)*0) + A*sin(3/20*sqrt(439)*0))*e^(-7/20*0)==3.2, B)"
   ]
  },
  {
   "cell_type": "code",
   "execution_count": 11,
   "metadata": {},
   "outputs": [
    {
     "data": {
      "text/plain": [
       "[A == 7/1317*sqrt(439)*B]"
      ]
     },
     "execution_count": 11,
     "metadata": {},
     "output_type": "execute_result"
    }
   ],
   "source": [
    "solve(3/20*(sqrt(439)*A*cos(3/20*sqrt(439)*0) - sqrt(439)*B*sin(3/20*sqrt(439)*0))*e^(-7/20*0) - 7/20*(B*cos(3/20*sqrt(439)*0) + A*sin(3/20*sqrt(439)*0))*e^(-7/20*0)==0,A)"
   ]
  },
  {
   "cell_type": "code",
   "execution_count": 12,
   "metadata": {},
   "outputs": [
    {
     "data": {
      "text/plain": [
       "[A == 112/6585*sqrt(439)]"
      ]
     },
     "execution_count": 12,
     "metadata": {},
     "output_type": "execute_result"
    }
   ],
   "source": [
    "solve(7/1317*sqrt(439)*(16/5) - A, A)"
   ]
  },
  {
   "cell_type": "code",
   "execution_count": 14,
   "metadata": {},
   "outputs": [
    {
     "data": {
      "image/png": "[encoded data removed]",
      "text/plain": [
       "Graphics object consisting of 1 graphics primitive"
      ]
     },
     "execution_count": 14,
     "metadata": {},
     "output_type": "execute_result"
    }
   ],
   "source": [
    "y = ((16/5)*cos(3/20*sqrt(439)*t) + (112/6585*sqrt(439))*sin(3/20*sqrt(439)*t))*e^(-7/20*t)\n",
    "plot(y,(t,0,25))"
   ]
  },
  {
   "cell_type": "markdown",
   "metadata": {},
   "source": [
    "At this resistance, the amplitude of the current decreases to almost zero aft 10 seconds."
   ]
  },
  {
   "cell_type": "markdown",
   "metadata": {},
   "source": [
    "d) R = 70, $$\\frac{dI^2(t)}{dt^2} + 70\\frac{dI(t)}{dt} + 10 I(t) = 0$$"
   ]
  },
  {
   "cell_type": "code",
   "execution_count": 16,
   "metadata": {},
   "outputs": [
    {
     "data": {
      "text/plain": [
       "_K2*e^(-t*(9*sqrt(15) + 35)) + _K1*e^(t*(9*sqrt(15) - 35))"
      ]
     },
     "execution_count": 16,
     "metadata": {},
     "output_type": "execute_result"
    }
   ],
   "source": [
    "#using x for I\n",
    "t = var('t')\n",
    "x = function('x')(t)\n",
    "\n",
    "de5 = lambda y: diff(y,t,2) + 70*diff(y,t) + 10*y\n",
    "desolve(de5(x),[x,t])"
   ]
  },
  {
   "cell_type": "code",
   "execution_count": 17,
   "metadata": {},
   "outputs": [
    {
     "data": {
      "text/plain": [
       "-_K2*(9*sqrt(15) + 35)*e^(-t*(9*sqrt(15) + 35)) + _K1*(9*sqrt(15) - 35)*e^(t*(9*sqrt(15) - 35))"
      ]
     },
     "execution_count": 17,
     "metadata": {},
     "output_type": "execute_result"
    }
   ],
   "source": [
    "s5 = desolve(de5(x),[x,t])\n",
    "diff(s5,t)"
   ]
  },
  {
   "cell_type": "code",
   "execution_count": 19,
   "metadata": {},
   "outputs": [
    {
     "data": {
      "text/plain": [
       "[_K2 == -_K1 + 16/5]"
      ]
     },
     "execution_count": 19,
     "metadata": {},
     "output_type": "execute_result"
    }
   ],
   "source": [
    "_K1 = var('_K1')\n",
    "_K2 = var('_K2')\n",
    "\n",
    "solve(_K2*e^(-0*(9*sqrt(15) + 35)) + _K1*e^(0*(9*sqrt(15) - 35))==3.2, _K2)"
   ]
  },
  {
   "cell_type": "code",
   "execution_count": 21,
   "metadata": {},
   "outputs": [
    {
     "data": {
      "text/plain": [
       "[_K1 == _K2*(9*sqrt(15) + 35)/(9*sqrt(15) - 35)]"
      ]
     },
     "execution_count": 21,
     "metadata": {},
     "output_type": "execute_result"
    }
   ],
   "source": [
    "solve(-_K2*(9*sqrt(15) + 35)*e^(-0*(9*sqrt(15) + 35)) + _K1*(9*sqrt(15) - 35)*e^(0*(9*sqrt(15) - 35))==0,_K1)"
   ]
  },
  {
   "cell_type": "code",
   "execution_count": 23,
   "metadata": {},
   "outputs": [
    {
     "data": {
      "text/plain": [
       "[_K1 == 8/675*sqrt(15)*(9*sqrt(15) + 35)]"
      ]
     },
     "execution_count": 23,
     "metadata": {},
     "output_type": "execute_result"
    }
   ],
   "source": [
    "solve((-_K1 + 16/5)*(9*sqrt(15) + 35)/(9*sqrt(15) - 35)-_K1 == 0, _K1)"
   ]
  },
  {
   "cell_type": "code",
   "execution_count": 24,
   "metadata": {},
   "outputs": [
    {
     "data": {
      "text/plain": [
       "[_K2 == 8/675*sqrt(15)*(9*sqrt(15) - 35)]"
      ]
     },
     "execution_count": 24,
     "metadata": {},
     "output_type": "execute_result"
    }
   ],
   "source": [
    "solve(-1*(8/675*sqrt(15)*(9*sqrt(15) + 35))+(16/5)-_K2==0,_K2)"
   ]
  },
  {
   "cell_type": "code",
   "execution_count": 25,
   "metadata": {},
   "outputs": [
    {
     "data": {
      "image/png": "[encoded data removed]",
      "text/plain": [
       "Graphics object consisting of 1 graphics primitive"
      ]
     },
     "execution_count": 25,
     "metadata": {},
     "output_type": "execute_result"
    }
   ],
   "source": [
    "y = (8/675*sqrt(15)*(9*sqrt(15) - 35))*e^(-t*(9*sqrt(15) + 35)) + (8/675*sqrt(15)*(9*sqrt(15) + 35))*e^(t*(9*sqrt(15) - 35))\n",
    "plot(y,(t,0,25))"
   ]
  },
  {
   "cell_type": "markdown",
   "metadata": {},
   "source": [
    "At this resistance the current is decreasing exponentially over time and is no longer sinusoidal."
   ]
  },
  {
   "cell_type": "markdown",
   "metadata": {},
   "source": [
    "d) R = 700, $$\\frac{dI^2(t)}{dt^2} + 700\\frac{dI(t)}{dt} + 10 I(t) = 0$$"
   ]
  },
  {
   "cell_type": "code",
   "execution_count": 26,
   "metadata": {},
   "outputs": [
    {
     "data": {
      "text/plain": [
       "_K2*e^(-t*(3*sqrt(13610) + 350)) + _K1*e^(t*(3*sqrt(13610) - 350))"
      ]
     },
     "execution_count": 26,
     "metadata": {},
     "output_type": "execute_result"
    }
   ],
   "source": [
    "#using x for I\n",
    "t = var('t')\n",
    "x = function('x')(t)\n",
    "\n",
    "de6 = lambda y: diff(y,t,2) + 700*diff(y,t) + 10*y\n",
    "desolve(de6(x),[x,t])"
   ]
  },
  {
   "cell_type": "code",
   "execution_count": 27,
   "metadata": {},
   "outputs": [
    {
     "data": {
      "text/plain": [
       "-_K2*(9*sqrt(15) + 35)*e^(-t*(9*sqrt(15) + 35)) + _K1*(9*sqrt(15) - 35)*e^(t*(9*sqrt(15) - 35))"
      ]
     },
     "execution_count": 27,
     "metadata": {},
     "output_type": "execute_result"
    }
   ],
   "source": [
    "s6 = desolve(de5(x),[x,t])\n",
    "diff(s6,t)"
   ]
  },
  {
   "cell_type": "code",
   "execution_count": 29,
   "metadata": {},
   "outputs": [
    {
     "data": {
      "text/plain": [
       "[_K2 == -_K1 + 16/5]"
      ]
     },
     "execution_count": 29,
     "metadata": {},
     "output_type": "execute_result"
    }
   ],
   "source": [
    "_K1 = var('_K1')\n",
    "_K2 = var('_K2')\n",
    "\n",
    "solve(_K2*e^(-0*(3*sqrt(13610) + 350)) + _K1*e^(0*(3*sqrt(13610) - 350))==3.2, _K2)"
   ]
  },
  {
   "cell_type": "code",
   "execution_count": 30,
   "metadata": {},
   "outputs": [
    {
     "data": {
      "text/plain": [
       "[_K1 == _K2*(9*sqrt(15) + 35)/(9*sqrt(15) - 35)]"
      ]
     },
     "execution_count": 30,
     "metadata": {},
     "output_type": "execute_result"
    }
   ],
   "source": [
    "solve(-_K2*(9*sqrt(15) + 35)*e^(-0*(9*sqrt(15) + 35)) + _K1*(9*sqrt(15) - 35)*e^(0*(9*sqrt(15) - 35))==0,_K1)"
   ]
  },
  {
   "cell_type": "code",
   "execution_count": 32,
   "metadata": {},
   "outputs": [
    {
     "data": {
      "text/plain": [
       "[_K2 == 8/675*sqrt(15)*(9*sqrt(15) - 35)]"
      ]
     },
     "execution_count": 32,
     "metadata": {},
     "output_type": "execute_result"
    }
   ],
   "source": [
    "solve(-1*(_K2*(9*sqrt(15) + 35)/(9*sqrt(15) - 35))+(16/5)-_K2==0,_K2)"
   ]
  },
  {
   "cell_type": "code",
   "execution_count": 33,
   "metadata": {},
   "outputs": [
    {
     "data": {
      "text/plain": [
       "[_K1 == 8/675*sqrt(15)*(9*sqrt(15) + 35)]"
      ]
     },
     "execution_count": 33,
     "metadata": {},
     "output_type": "execute_result"
    }
   ],
   "source": [
    "solve((8/675*sqrt(15)*(9*sqrt(15) - 35))*(9*sqrt(15) + 35)/(9*sqrt(15) - 35)-_K1==0,_K1)"
   ]
  },
  {
   "cell_type": "code",
   "execution_count": 34,
   "metadata": {},
   "outputs": [
    {
     "data": {
      "image/png": "[encoded data removed]",
      "text/plain": [
       "Graphics object consisting of 1 graphics primitive"
      ]
     },
     "execution_count": 34,
     "metadata": {},
     "output_type": "execute_result"
    }
   ],
   "source": [
    "y = (8/675*sqrt(15)*(9*sqrt(15) - 35))*e^(-t*(3*sqrt(13610) + 350)) + 8/675*sqrt(15)*(9*sqrt(15) + 35)*e^(t*(3*sqrt(13610) - 350))\n",
    "plot(y,(t,0,25))"
   ]
  },
  {
   "cell_type": "markdown",
   "metadata": {},
   "source": [
    "At this resistance, the current decreases in an almost linear fashion because the instantaneous slope of the exponential function is very small."
   ]
  }
 ],
 "metadata": {
  "kernelspec": {
   "display_name": "SageMath 9.1",
   "language": "sage",
   "name": "sagemath"
  },
  "language_info": {
   "codemirror_mode": {
    "name": "ipython",
    "version": 3
   },
   "file_extension": ".py",
   "mimetype": "text/x-python",
   "name": "python",
   "nbconvert_exporter": "python",
   "pygments_lexer": "ipython3",
   "version": "3.7.3"
  }
 },
 "nbformat": 4,
 "nbformat_minor": 4
}

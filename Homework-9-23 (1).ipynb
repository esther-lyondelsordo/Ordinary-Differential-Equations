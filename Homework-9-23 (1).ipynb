{
 "cells": [
  {
   "cell_type": "markdown",
   "metadata": {
    "collapsed": false
   },
   "source": [
    "<h1>\n",
    "    Homework Due 9/23\n",
    "</h1>\n",
    "<h3>\n",
    "    Problem 1 from PDF\n",
    "</h3>\n",
    "Use inspection or experiment to find a particular solution for the complete equations below as well as for the corresponding reduced equations.\n",
    "<h4>\n",
    "    i)\n",
    "</h4>\n",
    "Complete form: $$y'' = e^{x}$$"
   ]
  },
  {
   "cell_type": "markdown",
   "metadata": {
    "collapsed": false
   },
   "source": [
    "We can take the integral to get: $$y' = e^{x} + C$$ and then take the integral again to get the general solution: $$y = e^{x} + Cx + D$$"
   ]
  },
  {
   "cell_type": "markdown",
   "metadata": {
    "collapsed": false
   },
   "source": [
    "Reduced form is $$y'' = 0$$ So a solution is $$y = 1$$"
   ]
  },
  {
   "cell_type": "markdown",
   "metadata": {
    "collapsed": false
   },
   "source": [
    "<h4>\n",
    "    ii)\n",
    "</h4>\n",
    "$$y'' + 2y = sin(x)$$"
   ]
  },
  {
   "cell_type": "markdown",
   "metadata": {
    "collapsed": false
   },
   "source": [
    "To solve, let $v = y'$, we get: $$v' + 2v = sin(x)$$ which looks like the product rule, so we set $$uv'+u'v = uv' + 2uv = usin(x)$$ So, $$u' = 2u$$"
   ]
  },
  {
   "cell_type": "markdown",
   "metadata": {
    "collapsed": false
   },
   "source": [
    "$$\\frac{d}{dx}(uv) = usin(x)$$ $$uv = \\int usin(x)$$ $$v = -cos(x) + C$$  So, $$y' = -cos(x) + C$$ Giving the general solution $$y = -sin(x) + Cx + D$$"
   ]
  },
  {
   "cell_type": "markdown",
   "metadata": {
    "collapsed": false
   },
   "source": [
    "The reduced form is $$y'' + 2y = 0$$ So a solution is $$y = 1$"
   ]
  },
  {
   "cell_type": "markdown",
   "metadata": {
    "collapsed": false
   },
   "source": [
    "<h4>\n",
    "    iii)\n",
    "</h4>\n",
    "$$y'' + 2y' = 6e^x$$"
   ]
  },
  {
   "cell_type": "markdown",
   "metadata": {
    "collapsed": false
   },
   "source": [
    "Let $v = y'$ then $$v' + 2v = 6e^x$$ which resembles the product rule so we multiply in a factor, u, to get $$d(uv) = uv' + u'v = uv' + 2uv = 6ue^x$$ So, $$u' = 2u$$ and $$\\frac{d}{dx}(uv) = \\int 6ue^x dx$$ $$v = \\int 6e^x dx$$  $$y' = 6e^x + C$$ So we get the general solution $$y = 6e^x +Cx + D$$ For the reduced form $$y'' + 2y = 0$$ we get the solution $$y = 1$$"
   ]
  },
  {
   "cell_type": "markdown",
   "metadata": {
    "collapsed": false
   },
   "source": [
    "<h3>\n",
    "    Problem 2 from PDF\n",
    "</h3>\n",
    "(a) Use the formula from the end of Friday’s lecture ($v=\\int{\\frac{1}{y1^{2}}e^{-\\int{Pdx}}dx}$ with $y\"+P(x)y'+Q(x)y=0$) to find a particular\n",
    "solution to each of the reduced equations which is independent from\n",
    "the solution that you’ve already found.\n",
    "<p>\n",
    "    (b) Use the general solution to each of the reduced equations and your\n",
    "particular solution to the complete equations to find the general solution to the complete equations.\n",
    "</p>"
   ]
  },
  {
   "cell_type": "markdown",
   "metadata": {
    "collapsed": false
   },
   "source": [
    "<h4>\n",
    "    i) a)\n",
    "</h4>\n",
    "Using the formula, we get the particular solution $$y_2 = \\int{\\frac{1}{2}e^{\\int(0)dx}}dx = x$$\n",
    "<h4>\n",
    "    b)\n",
    "</h4>\n",
    "Which gives us the general solution $$e^{x} + Cx + D + C_1(1) + C_2(x)$$"
   ]
  },
  {
   "cell_type": "markdown",
   "metadata": {
    "collapsed": false
   },
   "source": [
    "<h4>\n",
    "    ii) a)\n",
    "</h4>\n",
    "Our particular solution is $$y_2 = \\int{\\frac{1}{2}e^{\\int2dx}}dx = \\frac{1}{2}e^{2x}$$\n",
    "<h4>\n",
    "    b)\n",
    "</h4>\n",
    "and our general solution is $$-sin(X) + Cx + D + C_1(1) + C_2(\\frac{1}{2}e^{2x})$$"
   ]
  },
  {
   "cell_type": "markdown",
   "metadata": {
    "collapsed": false
   },
   "source": [
    "<h4>\n",
    "    ii) a)\n",
    "</h4>\n",
    "Particular Solution: $$y_2 = \\int{\\frac{1}{2}e^{\\int 2dx}}dx = \\frac{1}{2}e^{2x}$$\n",
    "<h4>\n",
    "    b)\n",
    "</h4>\n",
    "General Solution to Complete Equation: $$6e^x + Cx + D$$"
   ]
  },
  {
   "cell_type": "markdown",
   "metadata": {
    "collapsed": false
   },
   "source": [
    "<h3>\n",
    "    Problem 1 from Moodle\n",
    "</h3>\n",
    "What is the shape of a cable of negligible density [so that $w(s)=0$] that supports a bridge of constant horizontal density given by $L(x)=L_0$."
   ]
  },
  {
   "cell_type": "markdown",
   "metadata": {
    "collapsed": false
   },
   "source": [
    "s=s(x,y)=arc length,L=weight of the bridge, T=tenstion in taugh direction, To=constant horizontal tension, $To+L+T=0$"
   ]
  },
  {
   "cell_type": "markdown",
   "metadata": {
    "collapsed": false
   },
   "source": [
    "The force diagram gives a triangle which yields this equation: $\\frac{dy}{dx}=\\frac{Tsin(theta)}{To}$"
   ]
  },
  {
   "cell_type": "markdown",
   "metadata": {
    "collapsed": false
   },
   "source": [
    "A diagram of the cable gives $ds=\\sqrt{dx^2+dy^2}$ or $\\frac{ds}{dx}=\\sqrt{1+(y')^2}$ which simplifies to $y\"=L\\sqrt{1+(y')^2}$"
   ]
  },
  {
   "cell_type": "markdown",
   "metadata": {
    "collapsed": false
   },
   "source": [
    "$a=\\frac{L}{T}$ so $Y\"=a\\sqrt{1+y^2}$"
   ]
  },
  {
   "cell_type": "markdown",
   "metadata": {
    "collapsed": false
   },
   "source": [
    "use substitution to get $v=y'$ $v'=a\\sqrt{1+v^2}$"
   ]
  },
  {
   "cell_type": "markdown",
   "metadata": {
    "collapsed": false
   },
   "source": [
    "$\\frac{dv}{\\sqrt{1+v^2}}=adx$"
   ]
  },
  {
   "cell_type": "markdown",
   "metadata": {
    "collapsed": false
   },
   "source": [
    "$sinh^{-1}(v)=ax+c$"
   ]
  },
  {
   "cell_type": "markdown",
   "metadata": {
    "collapsed": false
   },
   "source": [
    "$v=sinh(ax+c)$ $v(0)=0$ so $c=0$ "
   ]
  },
  {
   "cell_type": "markdown",
   "metadata": {
    "collapsed": false
   },
   "source": [
    "$v=sinh(ax)$ which becomes $y=\\int{sinh(ax)}dx=\\frac{1}{a}cos(ax)+c$ and $c=0$ so the soltuon is: "
   ]
  },
  {
   "cell_type": "markdown",
   "metadata": {
    "collapsed": false
   },
   "source": [
    "$y=\\frac{T}{L}cosh(\\frac{Lx}{T})$"
   ]
  },
  {
   "cell_type": "markdown",
   "metadata": {
    "collapsed": false
   },
   "source": [
    "<h3>\n",
    "    Problem 2 from Moodle\n",
    "</h3>\n",
    "What curve lying above the x-axis has the property that the length of the arc joining any two points on it is proportional to the area under that arc."
   ]
  },
  {
   "cell_type": "markdown",
   "metadata": {
    "collapsed": false
   },
   "source": [
    "$\\int_{0}^{x}\\sqrt{1+(\\frac{dy}{dx})^2}dx=a\\int_{0}^{x}y(x)dx$"
   ]
  },
  {
   "cell_type": "markdown",
   "metadata": {
    "collapsed": false
   },
   "source": [
    "$\\sqrt{(ay(x))^2-1}=\\frac{dy}{dx}$"
   ]
  },
  {
   "cell_type": "markdown",
   "metadata": {
    "collapsed": false
   },
   "source": [
    "A solution is $$y = 1$$"
   ]
  },
  {
   "cell_type": "markdown",
   "metadata": {
    "collapsed": false
   },
   "source": [
    "<h3>\n",
    "    First Order Practice #1\n",
    "</h3>\n",
    "$$yy'' = (y')^2$$"
   ]
  },
  {
   "cell_type": "markdown",
   "metadata": {
    "collapsed": false
   },
   "source": [
    "Let $y'=v$ then $$y\\frac{dv}{dy}v=v^2$$"
   ]
  },
  {
   "cell_type": "markdown",
   "metadata": {
    "collapsed": false
   },
   "source": [
    "$\\int{\\frac{dv}{v}}=\\int{\\frac{dy}{y}}$"
   ]
  },
  {
   "cell_type": "markdown",
   "metadata": {
    "collapsed": false
   },
   "source": [
    "$y=v+c$"
   ]
  },
  {
   "cell_type": "markdown",
   "metadata": {
    "collapsed": false
   },
   "source": [
    "$y=ce^kx$"
   ]
  },
  {
   "cell_type": "markdown",
   "metadata": {
    "collapsed": false
   },
   "source": [
    "<h3>\n",
    "    First Order Practice #7\n",
    "</h3>\n",
    "$$yy'' + (y')^2 - 2yy' = 0$$"
   ]
  },
  {
   "cell_type": "markdown",
   "metadata": {
    "collapsed": false
   },
   "source": [
    "$yv\\frac{dv}{dy}+v^2-2yv=0$"
   ]
  },
  {
   "cell_type": "markdown",
   "metadata": {
    "collapsed": false
   },
   "source": [
    "$y\\frac{dv}{dy}+v-2y=0$"
   ]
  },
  {
   "cell_type": "markdown",
   "metadata": {
    "collapsed": false
   },
   "source": [
    "$y\\frac{d}{dy}(yv)dy=2ydy$"
   ]
  },
  {
   "cell_type": "markdown",
   "metadata": {
    "collapsed": false
   },
   "source": [
    "$yv=y^2+c$"
   ]
  },
  {
   "cell_type": "markdown",
   "metadata": {
    "collapsed": false
   },
   "source": [
    "$\\frac{dy}{dx}=\\frac{y^2+c}{y}$"
   ]
  },
  {
   "cell_type": "markdown",
   "metadata": {
    "collapsed": false
   },
   "source": [
    "$\\int{\\frac{y^2+c}{y}}dy=\\int{1}dx$"
   ]
  },
  {
   "cell_type": "markdown",
   "metadata": {
    "collapsed": false
   },
   "source": [
    "$y^2=De^{2x}+c$"
   ]
  },
  {
   "cell_type": "markdown",
   "metadata": {
    "collapsed": false
   },
   "source": [
    "<h3>\n",
    "    First Order Practice #11\n",
    "</h3>\n",
    "$$y'' + 2x(y')^2 = 0$$"
   ]
  },
  {
   "cell_type": "markdown",
   "metadata": {
    "collapsed": false
   },
   "source": [
    "$v'+2xv^2=0$"
   ]
  },
  {
   "cell_type": "markdown",
   "metadata": {
    "collapsed": false
   },
   "source": [
    "$\\frac{dv}{dx}=-2xv^2dx$"
   ]
  },
  {
   "cell_type": "markdown",
   "metadata": {
    "collapsed": false
   },
   "source": [
    "$\\int{\\frac{1}{v^2}}dv=\\int{-2x}dx$"
   ]
  },
  {
   "cell_type": "markdown",
   "metadata": {
    "collapsed": false
   },
   "source": [
    "$\\frac{dy}{dx}=\\frac{1}{x^2+c}$"
   ]
  },
  {
   "cell_type": "markdown",
   "metadata": {
    "collapsed": false
   },
   "source": [
    "$\\int{dy}=\\int{\\frac{1}{x^2+c}dx}$"
   ]
  },
  {
   "cell_type": "markdown",
   "metadata": {
    "collapsed": false
   },
   "source": [
    "$y=\\frac{tan^{-1}\\frac{x}{C}}{C}+D$"
   ]
  },
  {
   "cell_type": "markdown",
   "metadata": {
    "collapsed": false
   },
   "source": [
    "<h3>\n",
    "    First Order Practice #16\n",
    "</h3>\n",
    "$$x^2y'' + xy' = 1$$"
   ]
  },
  {
   "cell_type": "markdown",
   "metadata": {
    "collapsed": false
   },
   "source": [
    "$x^2\\frac{dv}{dx}+xv=1$"
   ]
  },
  {
   "cell_type": "markdown",
   "metadata": {
    "collapsed": false
   },
   "source": [
    "$x\\frac{du}{dx}+v=\\frac{1}{x}$"
   ]
  },
  {
   "cell_type": "markdown",
   "metadata": {
    "collapsed": false
   },
   "source": [
    "$\\int{xv}dx=\\int\\frac{1}{x}dx$"
   ]
  },
  {
   "cell_type": "markdown",
   "metadata": {
    "collapsed": false
   },
   "source": [
    "$\\frac{dy}{dx}=\\frac{ln(x)+c}{x}$"
   ]
  },
  {
   "cell_type": "markdown",
   "metadata": {
    "collapsed": false
   },
   "source": [
    "$\\int{dy}=\\int{\\frac{ln(x)}{x}}+\\int{\\frac{c}{x}}dx$"
   ]
  },
  {
   "cell_type": "markdown",
   "metadata": {
    "collapsed": false
   },
   "source": [
    "$y=\\frac{1}{2}ln^2(x)+Cln(x)+D$"
   ]
  },
  {
   "cell_type": "code",
   "execution_count": 0,
   "metadata": {
    "collapsed": false
   },
   "outputs": [
   ],
   "source": [
   ]
  }
 ],
 "metadata": {
  "kernelspec": {
   "display_name": "SageMath 9.1",
   "language": "sagemath",
   "metadata": {
    "cocalc": {
     "description": "Open-source mathematical software system",
     "priority": 10,
     "url": "https://www.sagemath.org/"
    }
   },
   "name": "sage-9.1"
  },
  "language_info": {
   "codemirror_mode": {
    "name": "ipython",
    "version": 3
   },
   "file_extension": ".py",
   "mimetype": "text/x-python",
   "name": "python",
   "nbconvert_exporter": "python",
   "pygments_lexer": "ipython3",
   "version": "3.7.3"
  }
 },
 "nbformat": 4,
 "nbformat_minor": 4
}
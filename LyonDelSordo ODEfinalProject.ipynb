{
 "cells": [
  {
   "cell_type": "markdown",
   "metadata": {
    "collapsed": false
   },
   "source": [
    "<h1>\n",
    "    M 391 Differential Equations Final Project\n",
    "</h1>\n",
    "<h2>\n",
    "    Due 11/18/20, 5 pm\n",
    "</h2>\n",
    "<h3>\n",
    "Problem 1   \n",
    "</h3>\n",
    "By first setting $a_0=1$ and $a_1=0$ and then setting $a_0=0$ and $a_1=1$, find a pair of independent solutions to equations (1), (2), and (3) for p=0,1,2,3. $\\newline$\n",
    "Hermite's Equation (1) $$y''-2xy'+2py=0$$"
   ]
  },
  {
   "cell_type": "markdown",
   "metadata": {
    "collapsed": false
   },
   "source": [
    "Suppose $y = \\sum_{n  = 0}^\\infty a_n x^n$ solves (1) Then we have $y' = \\sum_{n  = 1}^\\infty na_n x^{n-1}$ and $y'' = \\sum_{n  = 2}^\\infty (n-1)na_n x^{n-2}$.  Plugging these into (1), we get:\n",
    "\\begin{align}\n",
    "\\sum_{n  = 2}^\\infty (n-1)na_n x^{n-2} - 2x\\sum_{n  = 1}^\\infty na_n x^{n-1} + 2p \\sum_{n  = 0}^\\infty a_n x^n = 0  \\\\\n",
    "\\sum_{n  = 0}^\\infty (n+2)(n+1)a_{n+2} x^{n} - \\sum_{n  = 1}^\\infty 2na_n x^{n} + \\sum_{n  = 0}^\\infty 2pa_n x^n = 0\n",
    "\\end{align}\n",
    "Since the $n=0$ of the $y'$ term is $2*0*a_0*x^0 = 0$, we can write:\n",
    "\\begin{align}\n",
    "\\sum_{n  = 0}^\\infty (n+2)(n+1)a_{n+2} x^{n} - \\sum_{n  = 0}^\\infty 2na_n x^{n} + \\sum_{n  = 0}^\\infty 2pa_n x^n = 0 \\\\\n",
    "\\sum_{n  = 0}^\\infty ((n+2)(n+1)a_{n+2} - 2na_n + 2pa_n) x^n = 0 \\\\\n",
    "(n+2)(n+1)a_{n+2} - 2na_n + 2pa_n = 0, \\forall n \\in \\mathbb{N}\n",
    "\\end{align}\n",
    "This gives us the recurrence relation:\n",
    "\\begin{align}\n",
    "a_{n+2} = \\frac{2(n-p)}{(n+2)(n+1)}a_n\n",
    "\\end{align}\n",
    "If we set $a_0=1$ and $a_1=0$, we get $a_1 = a_3 = 0$. Thus we get the following coefficients:\n",
    "\\begin{align}\n",
    "a_2 = \\frac{2(0-p)}{2} \\\\\n",
    "a_4 = \\frac{2^2(2-p)(0-p)}{4!}\\\\\n",
    "\\end{align}\n",
    "These initial conditions give us the independent solution $$g_p = a_0(1 + \\frac{2(0-p)}{2}x^2 + \\frac{2^2(2-p)(0-p)}{4!}x^4 + ...)$$\n",
    "For $g_p$ where $p \\in \\{0,1,2,3\\}$, we get the following solutions (see Problem 4 for more details):\n",
    "\\begin{align}\n",
    "g_0 = 1\\\\\n",
    "g_1 = 1 - x^2\\\\\n",
    "g_2 = -(1/9)x^10 - (1/7)x^8 - (1/5)x^6 - (1/3)x^4 - x^2 + 1\\\\\n",
    "g_3 = (2/7)x^10 + (3/7)x^8 + (4/5)x^6 + 3x^4 - 6x^2 + 1\n",
    "\\end{align}\n",
    "If we set $a_0=0$ and $a_1=1$, we get $a_0 = a_2 = 0$. Thus, for $p \\in \\{0,1,2,3\\}$ we get the following coefficients:\n",
    "\\begin{align}\n",
    "a_3 = \\frac{2(1-p)}{3!}\\\\\n",
    "a_5 = \\frac{2^2(3-p)(1-p)}{5!}\n",
    "\\end{align}\n",
    "These initial conditions give us the independent solution $$h_p = a_1(x + \\frac{2(1-p)}{3!}x^3 + \\frac{2^2(3-p)(1-p)}{5!}x^5 + ...)$$\n",
    "For $h_p$ where $p \\in \\{0,1,2,3\\}$, we get the following solutions (see Problem 4 for more details):\n",
    "\\begin{align}\n",
    "h_0 = (1/11)x^11 + (1/9)x^9 + (1/7)x^7 + (1/5)x^5 + (1/3)x^3 + x\\\\\n",
    "h_1 = x\\\\\n",
    "h_2 = -(2/33)x^11 - (5/63)x^9 - (4/35)x^7 - (1/5)x^5 - (2/3)x^3 + x\\\\\n",
    "h_3 = -(2/3)x^3 + x\n",
    "\\end{align}"
   ]
  },
  {
   "cell_type": "markdown",
   "metadata": {
    "collapsed": false
   },
   "source": [
    "Legendre's equation (2) $$(1−x^2)y′′−2xy′+p(p+1)y=0$$\n",
    "Suppose $y = \\sum_{n  = 0}^\\infty a_n x^n$ solves (2) Then we have $y' = \\sum_{n  = 1}^\\infty na_n x^{n-1}$ and $y'' = \\sum_{n  = 2}^\\infty (n-1)na_n x^{n-2}$.  Plugging these into (1), we get:\n",
    "\\begin{align}\n",
    "\\sum_{n  = 2}^\\infty (n-1)na_n x^{n-2} - x^2\\sum_{n  = 2}^\\infty (n-1)na_n x^{n-2} - 2x\\sum_{n  = 1}^\\infty na_n x^{n-1} + p(p+1)\\sum_{n=0}^\\infty a_nx^n = 0 \\\\\n",
    "\\sum_{n = 0}^\\infty (n+1)(n+2)a_{n+2}x^n - \\sum_{n=0}^\\infty (n-1)na_nx^n - \\sum_{n  = 1}^\\infty 2na_n x^n + \\sum_{n=0}^\\infty p(p+1)a_nx^n = 0 \\\\\n",
    "\\sum_{n=0}^\\infty ((n+1)(n+2)a_{n+2} - (n-1)na_n - 2na_n + p(p+1)a_n)x^n = 0 \\\\\n",
    "(n+1)(n+2)a_{n+2} - (n-1)na_n - 2na_n + p(p+1)a_n = 0\n",
    "\\end{align}\n",
    "This gives the recurrence relation: $$a_{n+2} = \\frac{n(n+1)-p(p+1)}{(n+1)(n+2)}$$\n",
    "\n",
    "If we set $a_0=1$ and $a_1=0$, we get $a_1 = a_3 = 0$. Thus we get the following coefficients:\n",
    "\\begin{align}\n",
    "a_2 = -\\frac{p(p+1)}{2} \\\\\n",
    "a_4 = \\frac{p(p-2)(p+3)(p+1)}{4!}\\\\\n",
    "\\end{align}\n",
    "These initial conditions give us the independent solution $$g_p = a_0(1 - \\frac{p(p+1)}{2}x^2 + \\frac{p(p-2)(p+3)(p+1)}{4!}x^4 - ...) = a_0 \\sum_{n=0}^\\infty \\frac{(-1)^n \\prod_{k=1}^n (p -2k +2) \\prod_{j=1}^n (p+2j-1)}{(2n)!}x^{2n}$$\n",
    "For $g_p$ where $p \\in \\{0,1,2,3\\}$, we get the following solutions (see Problem 2 for more details):\n",
    "\\begin{align}\n",
    "g_0 = 1\\\\\n",
    "g_1 = -(1/9)x^10 - (1/7)x^8 - (1/5)x^6 - (1/3)x^4 - x^2 + 1\\\\\n",
    "g_2 = -3x^2 + 1\\\\\n",
    "g_3 = (2/7)x^10 + (3/7)x^8 + (4/5)x^6 + 3x^4 - 6x^2 + 1\n",
    "\\end{align}\n",
    "If we set $a_0=0$ and $a_1=1$, we get $a_0 = a_2 = 0$. Thus, for $p \\in \\{0,1,2,3\\}$ we get the following coefficients:\n",
    "\\begin{align}\n",
    "a_3 = \\frac{-(p+2)(p-1)}{3!}\\\\\n",
    "a_5 = \\frac{(p+4)(p+2)(p-3)(p-1)}{5!}\n",
    "\\end{align}\n",
    "These initial conditions give us the independent solution $$h_p = a_1(x - \\frac{(p+2)(p-1)}{3!}x^3 + \\frac{(p+4)(p+2)(p-3)(p-1)}{5!}x^5 - ...) = a_1 \\sum_{n=0}^\\infty \\frac{(-1)^n \\prod_{k=1}^n (p -2k + 1) \\prod_{j=1}^n (p+2j)}{(2n+1)!}x^{2n+1}$$\n",
    "For $h_p$ where $p \\in \\{0,1,2,3\\}$, we get the following solutions (see Problem 2 for more details):\n",
    "\\begin{align}\n",
    "h_0 = (1/11)x^11 + (1/9)x^9 + (1/7)x^7 + (1/5)x^5 + (1/3)x^3 + x\\\\\n",
    "h_1 = x\\\\\n",
    "h_2 = -(2/33)x^11 - (5/63)x^9 - (4/35)x^7 - (1/5)x^5 - (2/3)x^3 + x\\\\\n",
    "h_3 = -(5/3)x^3 + x\n",
    "\\end{align}"
   ]
  },
  {
   "cell_type": "markdown",
   "metadata": {
    "collapsed": false
   },
   "source": [
    "Chebyshev's equation (3) $$(1−x^2)y′′−xy′+p^2y=0$$\n",
    "Suppose $y = \\sum_{n  = 0}^\\infty a_n x^n$ solves (3) Then we have $y' = \\sum_{n  = 1}^\\infty na_n x^{n-1}$ and $y'' = \\sum_{n  = 2}^\\infty (n-1)na_n x^{n-2}$.  Plugging these into (1), we get:\n",
    "\\begin{align}\n",
    "\\sum_{n  = 2}^\\infty (n-1)na_n x^{n-2} - x^2\\sum_{n  = 2}^\\infty (n-1)na_n x^{n-2} - x\\sum_{n  = 1}^\\infty na_n x^{n-1} + p^2 \\sum_{n  = 0}^\\infty a_n x^n = 0  \\\\\n",
    "\\sum_{n  = 0}^\\infty (n+1)(n+2)a_{n+2} x^{n} - \\sum_{n  = 0}^\\infty (n-1)na_n x^{n} - \\sum_{n  = 1}^\\infty na_n x^{n} + \\sum_{n  = 0}^\\infty p^2a_n x^n = 0 \\\\\n",
    "\\sum_{n  = 0}^\\infty ((n+1)(n+2)a_{n+2} + (n-1)na_n - na_n + p^2a_n)x^n = 0 \\\\\n",
    "(n+1)(n+2)a_{n+2} + (n-1)na_n - na_n + p^2a_n = 0\n",
    "\\end{align}\n",
    "This gives the recurrence relation: $$a_{n+2} = \\frac{(n-p)(n+p)}{(n+1)(n+2)}a_n$$\n",
    "If we set $a_0=1$ and $a_1=0$, we get $a_1 = a_3 = a_5 = 0$. Thus we get the following coefficients:\n",
    "\\begin{align}\n",
    "a_2 = \\frac{p^2}{2!} \\\\\n",
    "a_4 = \\frac{(2^2 - p^2)p^2}{4!}\\\\\n",
    "\\end{align}\n",
    "These initial conditions give us the independent solution $$g_p = a_0(1 + \\frac{p^2}{2!}x^2 + \\frac{(2^2 - p^2)p^2}{4!}x^4 + ...) = a_0 \\sum_{n=0}^\\infty \\frac{\\prod_{k=0}^n (p^2 -(2k)^2){(2n)!}x^{2n}$$\n",
    "\n",
    "If we set $a_0=0$ and $a_1=1$, we get $a_0 = a_2 = 0$. Thus, for $p \\in \\{0,1,2,3\\}$ we get the following coefficients:\n",
    "\\begin{align}\n",
    "a_3 = \\frac{1^2 - p^2}{3!}\\\\\n",
    "a_5 = \\frac{(3^2 - p^2)(1^2 - p^2)}{5!}\n",
    "\\end{align}\n",
    "These initial conditions give us the independent solution $$h_p = a_1(x + \\frac{1^2 - p^2}{3!}x^3 + \\frac{(3^2 - p^2)(1^2 - p^2)}{5!}x^5 + ...) = a_1 \\sum_{n=0}^\\infty \\frac{\\prod_{k=0}^n (p^2 -(2k+1)^2){(2n+1)!}x^{2n+1}$$\n",
    "The independent polynomial solutions are computed in the code below:"
   ]
  },
  {
   "cell_type": "code",
   "execution_count": 3,
   "metadata": {
    "collapsed": false
   },
   "outputs": [
    {
     "name": "stdout",
     "output_type": "stream",
     "text": [
      "At p = 0 ,\n",
      " y_1 gives 1\n",
      " y_2 gives 15/8*x^5 + 3/2*x^3 + x\n",
      "\n",
      "At p = 1 ,\n",
      " y_1 gives -15/8*x^4 - 3/2*x^2 + 1\n",
      " y_2 gives x\n",
      "\n",
      "At p = 2 ,\n",
      " y_1 gives 1\n",
      " y_2 gives -21/8*x^5 - 5/2*x^3 + x\n",
      "\n",
      "At p = 3 ,\n",
      " y_1 gives 105/8*x^4 + 45/2*x^2 + 1\n",
      " y_2 gives x\n",
      "\n"
     ]
    }
   ],
   "source": [
    "# y_1 is even terms, we get this when a_0 = 1\n",
    "# y_2 is odd terms, we get this when a_1 = 1\n",
    "# y = a_0*y_1 + a_1*y_2\n",
    "\n",
    "import math\n",
    "\n",
    "x = var('x')\n",
    "\n",
    "\n",
    "for p in range(0,4):\n",
    "\n",
    "    g=1\n",
    "\n",
    "    for n in range(1,3):\n",
    "\n",
    "        prod1 = 1\n",
    "\n",
    "        for k in range(0,n+1):\n",
    "\n",
    "            prod1 = prod1*((2*k)^2 - p^2)\n",
    "\n",
    "        g=g+((prod1/math.factorial(2*n))*x^(2*n))\n",
    "\n",
    "    print(\"At p =\",p,\",\\n\",\"y_1 gives\", g) \n",
    "    \n",
    "    h=x\n",
    "\n",
    "    for n in range(1,3):\n",
    "\n",
    "        prod2 = 1\n",
    "\n",
    "        for k in range(0,n+1):\n",
    "\n",
    "            prod2 = prod2*((2*k + 1)^2 - p^2)\n",
    "\n",
    "        h=h+((prod2/math.factorial(2*n+1))*x^(2*n+1))\n",
    "\n",
    "    print(\" y_2 gives\", h) \n",
    "\n",
    "    print()"
   ]
  },
  {
   "cell_type": "markdown",
   "metadata": {
    "collapsed": false
   },
   "source": [
    "This doesn't look quite right, there must be a bug in my code.  It should be $y_1 = 1$ for $p=0$, $y_2 = x$ for $p = 1$, $y_1 = 2x^2-1$ for $p=2$, and $y_2 = 4x^3 -3x$ for $p=3$."
   ]
  },
  {
   "cell_type": "markdown",
   "metadata": {
    "collapsed": false
   },
   "source": [
    "<h3>\n",
    "    Problem 2\n",
    "</h3>\n",
    "Forp=0,1,2,3,4,5,6, find polynomial solutions for equation (2) with y(1)=1. Argue that, for each p there is only one such solution.  These polynomials are called the Legendre polynomials"
   ]
  },
  {
   "cell_type": "code",
   "execution_count": 1,
   "metadata": {
    "collapsed": false
   },
   "outputs": [
    {
     "name": "stdout",
     "output_type": "stream",
     "text": [
      "At p = 0 ,\n",
      " y_1 gives 1\n",
      " y_2 gives 1/11*x^11 + 1/9*x^9 + 1/7*x^7 + 1/5*x^5 + 1/3*x^3 + x\n",
      "\n",
      "At p = 1 ,\n",
      " y_1 gives -1/9*x^10 - 1/7*x^8 - 1/5*x^6 - 1/3*x^4 - x^2 + 1\n",
      " y_2 gives x\n",
      "\n",
      "At p = 2 ,\n",
      " y_1 gives -3*x^2 + 1\n",
      " y_2 gives -2/33*x^11 - 5/63*x^9 - 4/35*x^7 - 1/5*x^5 - 2/3*x^3 + x\n",
      "\n",
      "At p = 3 ,\n",
      " y_1 gives 2/7*x^10 + 3/7*x^8 + 4/5*x^6 + 3*x^4 - 6*x^2 + 1\n",
      " y_2 gives -5/3*x^3 + x\n",
      "\n",
      "At p = 4 ,\n",
      " y_1 gives 35/3*x^4 - 10*x^2 + 1\n",
      " y_2 gives 1/11*x^11 + 1/7*x^9 + 2/7*x^7 + 6/5*x^5 - 3*x^3 + x\n",
      "\n",
      "At p = 5 ,\n",
      " y_1 gives -x^10 - 15/7*x^8 - 10*x^6 + 30*x^4 - 15*x^2 + 1\n",
      " y_2 gives 21/5*x^5 - 14/3*x^3 + x\n",
      "\n",
      "At p = 6 ,\n",
      " y_1 gives -231/5*x^6 + 63*x^4 - 21*x^2 + 1\n",
      " y_2 gives -8/33*x^11 - 5/9*x^9 - 20/7*x^7 + 10*x^5 - 20/3*x^3 + x\n",
      "\n"
     ]
    }
   ],
   "source": [
    "# y_1 is even terms, we get this when a_0 = 1\n",
    "# y_2 is odd terms, we get this when a_1 = 1\n",
    "# y = a_0*y_1 + a_1*y_2\n",
    "\n",
    "import math\n",
    "\n",
    "x = var('x')\n",
    "\n",
    "\n",
    "for p in range(0,7):\n",
    "\n",
    "    g=1\n",
    "\n",
    "    for n in range(1,6):\n",
    "\n",
    "        prod1 = 1\n",
    "        \n",
    "        prod3 = 1\n",
    "\n",
    "        for k in range(1,n+1):\n",
    "\n",
    "            prod1 = prod1*(p - 2*k + 2)\n",
    "            \n",
    "        for j in range(1,n+1):\n",
    "            \n",
    "            prod3 = prod3*(p+2*j-1)\n",
    "\n",
    "        g=g+((-1)^n*(prod1*prod3/math.factorial(2*n))*x^(2*n))\n",
    "\n",
    "    print(\"At p =\",p,\",\\n\",\"y_1 gives\", g) \n",
    "    \n",
    "    \n",
    "    h=x\n",
    "\n",
    "    for n in range(1,6):\n",
    "\n",
    "        prod2 = 1\n",
    "        \n",
    "        prod4 = 1\n",
    "\n",
    "        for k in range(1,n+1):\n",
    "\n",
    "            prod2 = prod2*(p - 2*k + 1)\n",
    "            \n",
    "        for j in range(1,n+1):\n",
    "            \n",
    "            prod4 = prod4*(p+2*j)\n",
    "\n",
    "        h=h+((-1)^n*(prod2*prod4/math.factorial(2*n+1))*x^(2*n+1))\n",
    "\n",
    "    print(\" y_2 gives\", h) \n",
    "\n",
    "    print()"
   ]
  },
  {
   "cell_type": "markdown",
   "metadata": {
    "collapsed": false
   },
   "source": [
    "We can argue that the Legendre Equation has odd solutions for odd values of p and even solutions for even values of p, because we can see above that the degrees of the polynomials don't match up for p values and n that are not both even or both odd.  Thus, there is only one polynomial solution $L_p$ for each value of $p$: \n",
    "\\begin{align}\n",
    "L_0 = 1 \\\\\n",
    "L_1 = x \\\\\n",
    "L_2 = -3x^2 + 1 \\\\\n",
    "L_3 = -\\frac{5}{3}x^3 + x\n",
    "\\end{align}"
   ]
  },
  {
   "cell_type": "markdown",
   "metadata": {
    "collapsed": false
   },
   "source": [
    "<h3>\n",
    "    Problem 3\n",
    "</h3>\n",
    "Plot the first seven Legendre polynomials on a single plot and conjecture aproperty for these polynomials that depends on whetherpis even or odd."
   ]
  },
  {
   "cell_type": "code",
   "execution_count": 6,
   "metadata": {
    "collapsed": false
   },
   "outputs": [
    {
     "data": {
      "image/png": "[encoded data removed]",
      "text/plain": [
       "Graphics object consisting of 7 graphics primitives"
      ]
     },
     "execution_count": 6,
     "metadata": {
     },
     "output_type": "execute_result"
    }
   ],
   "source": [
    "# plot of the first 7 Legendre polynomials\n",
    "var('x')\n",
    "g = Graphics()\n",
    "g += plot(1, (x,-1,1), ymin=-1,ymax=1,color='blue')\n",
    "g += plot(x, (x, -1, 1), ymin=-1,ymax=1,color='red')\n",
    "g += plot((.5*(3*x^2-1)), (x, -1, 1),ymin=-1,ymax=1, color='green')\n",
    "g += plot((.5*(5*x^3-3*x)), (x,-1,1),ymin=-1,ymax=1, color='yellow')\n",
    "g += plot(((1/8)*(35*x^3-30*x^2+3)), (x,-1,1), ymin=-1,ymax=1, color='teal')\n",
    "g += plot(((1/8)*(63*x^5-70*x^3+15*x)), (x,-1,1), ymin=-1,ymax=1, color='pink')\n",
    "g += plot(((1/16)*(231*x^6-315*x^4+105*x^2-5)), (x,-1,1), ymin=-1,ymax=1, color='purple')\n",
    "g.show()"
   ]
  },
  {
   "cell_type": "markdown",
   "metadata": {
    "collapsed": false
   },
   "source": [
    "Based on this graph, it appears that the functions for odd p have odd order graphs and functions with even p have even order graphs."
   ]
  },
  {
   "cell_type": "markdown",
   "metadata": {
    "collapsed": false
   },
   "source": [
    "<h3>\n",
    "    Problem 4 \n",
    "</h3>\n",
    "Consider Hermite’s equation (1).  For a positive integer p, how should you choose values in $\\{0,1\\}$ for $a_0$ and $a_1$ so that the cooresponding power series solution $h_p(x)$ is actually a polynomial? Compute $h_p(x)$ for $p \\in \\{0,1,2,3,4,5,6\\}$."
   ]
  },
  {
   "cell_type": "code",
   "execution_count": 25,
   "metadata": {
    "collapsed": false
   },
   "outputs": [
    {
     "name": "stdout",
     "output_type": "stream",
     "text": [
      "At p = 0 ,\n",
      " y_1 gives 1\n",
      " y_2 gives 1/9360*x^13 + 1/1320*x^11 + 1/216*x^9 + 1/42*x^7 + 1/10*x^5 + 1/3*x^3 + x\n",
      "\n",
      "At p = 1 ,\n",
      " y_1 gives -1/7920*x^12 - 1/1080*x^10 - 1/168*x^8 - 1/30*x^6 - 1/6*x^4 - x^2 + 1\n",
      " y_2 gives x\n",
      "\n",
      "At p = 2 ,\n",
      " y_1 gives -2*x^2 + 1\n",
      " y_2 gives -1/102960*x^13 - 1/11880*x^11 - 1/1512*x^9 - 1/210*x^7 - 1/30*x^5 - 1/3*x^3 + x\n",
      "\n",
      "At p = 3 ,\n",
      " y_1 gives 1/23760*x^12 + 1/2520*x^10 + 1/280*x^8 + 1/30*x^6 + 1/2*x^4 - 3*x^2 + 1\n",
      " y_2 gives -2/3*x^3 + x\n",
      "\n",
      "At p = 4 ,\n",
      " y_1 gives 4/3*x^4 - 4*x^2 + 1\n",
      " y_2 gives 1/308880*x^13 + 1/27720*x^11 + 1/2520*x^9 + 1/210*x^7 + 1/10*x^5 - x^3 + x\n",
      "\n",
      "At p = 5 ,\n",
      " y_1 gives -1/33264*x^12 - 1/2520*x^10 - 1/168*x^8 - 1/6*x^6 + 5/2*x^4 - 5*x^2 + 1\n",
      " y_2 gives 4/15*x^5 - 4/3*x^3 + x\n",
      "\n",
      "At p = 6 ,\n",
      " y_1 gives -8/15*x^6 + 4*x^4 - 6*x^2 + 1\n",
      " y_2 gives -1/432432*x^13 - 1/27720*x^11 - 1/1512*x^9 - 1/42*x^7 + 1/2*x^5 - 5/3*x^3 + x\n",
      "\n"
     ]
    }
   ],
   "source": [
    "# y_1 is even terms, we get this when a_0 = 1\n",
    "# y_2 is odd terms, we get this when a_1 = 1\n",
    "# y = a_0*y_1 + a_1*y_2\n",
    "\n",
    "import math\n",
    "\n",
    "x = var('x')\n",
    "\n",
    "\n",
    "for p in range(0,7):\n",
    "\n",
    "    g=1\n",
    "\n",
    "    for n in range(1,7):\n",
    "\n",
    "        prod1 = 1\n",
    "\n",
    "        for k in range(1,n+1):\n",
    "\n",
    "            prod1 = prod1*(2*k -2 - p)\n",
    "\n",
    "        g=g+((2^n*prod1/math.factorial(2*n))*x^(2*n))\n",
    "\n",
    "    print(\"At p =\",p,\",\\n\",\"y_1 gives\", g) \n",
    "    \n",
    "    \n",
    "    h=x\n",
    "\n",
    "    for n in range(1,7):\n",
    "\n",
    "        prod2 = 1\n",
    "\n",
    "        for k in range(1,n+1):\n",
    "\n",
    "            prod2 = prod2*(2*k - 1 -p)\n",
    "\n",
    "        h=h+((2^n*prod2/math.factorial(2*n + 1))*x^(2*n + 1))\n",
    "\n",
    "    print(\" y_2 gives\", h) \n",
    "\n",
    "    print()"
   ]
  },
  {
   "cell_type": "markdown",
   "metadata": {
    "collapsed": false
   },
   "source": [
    "As you can see above, certain values for $a_0$ and $a_1$ give simpler polynomials.  For $p = 1$ I would choose $a_0 = 1, a_1 = 0$.  "
   ]
  },
  {
   "cell_type": "markdown",
   "metadata": {
    "collapsed": false
   },
   "source": [
    "<h3>\n",
    "    Problem 5\n",
    "</h3>\n",
    "Let $G(x,t)=exp(2xt−t^2)$ and, for a positive integer $j$, define: $H_j(x)=\\frac{_∂jG}{∂t^j}$\n",
    "Show that $\\frac{\\partial^2G}{\\partial x^2}−2x\\frac{\\partial G}{\\partial x}+2(2xt−2t^2)G=0$.\n",
    "The polynomials $H_n$ are called Hermite polynomials.  Make a conjecture for a formula that gives the scalars relating $h_n$ and $H_n$.\n",
    "$\\partial$"
   ]
  },
  {
   "cell_type": "code",
   "execution_count": 22,
   "metadata": {
    "collapsed": false
   },
   "outputs": [
    {
     "data": {
      "text/plain": [
       "0"
      ]
     },
     "execution_count": 22,
     "metadata": {
     },
     "output_type": "execute_result"
    }
   ],
   "source": [
    "# show that G'' - 2xG' + 2(2xt - 2t^2)G = 0\n",
    "x,t = var('x,t')\n",
    "\n",
    "G = e^(2*x*t - t^2)\n",
    "dG = G.diff(x)\n",
    "d2G = G.diff(x,2)\n",
    "\n",
    "de = d2G - 2*x*dG + 2*(2*x*t - 2*t^2)*G\n",
    "de.full_simplify()"
   ]
  },
  {
   "cell_type": "code",
   "execution_count": 23,
   "metadata": {
    "collapsed": false
   },
   "outputs": [
    {
     "name": "stdout",
     "output_type": "stream",
     "text": [
      "H_ 0 = e^(-t^2 + 2*t*x)\n",
      "H_ 1 = -2*(t - x)*e^(-t^2 + 2*t*x)\n",
      "H_ 2 = 4*(t - x)^2*e^(-t^2 + 2*t*x) - 2*e^(-t^2 + 2*t*x)\n",
      "H_ 3 = -8*(t - x)^3*e^(-t^2 + 2*t*x) + 12*(t - x)*e^(-t^2 + 2*t*x)\n",
      "H_ 4 = 16*(t - x)^4*e^(-t^2 + 2*t*x) - 48*(t - x)^2*e^(-t^2 + 2*t*x) + 12*e^(-t^2 + 2*t*x)\n",
      "H_ 5 = -32*(t - x)^5*e^(-t^2 + 2*t*x) + 160*(t - x)^3*e^(-t^2 + 2*t*x) - 120*(t - x)*e^(-t^2 + 2*t*x)\n",
      "H_ 6 = 64*(t - x)^6*e^(-t^2 + 2*t*x) - 480*(t - x)^4*e^(-t^2 + 2*t*x) + 720*(t - x)^2*e^(-t^2 + 2*t*x) - 120*e^(-t^2 + 2*t*x)\n"
     ]
    },
    {
     "data": {
      "text/html": [
       "<html><script type=\"math/tex; mode=display\">\\newcommand{\\Bold}[1]{\\mathbf{#1}}\\left[e^{\\left(-t^{2} + 2 \\, t x\\right)}, -2 \\, {\\left(t - x\\right)} e^{\\left(-t^{2} + 2 \\, t x\\right)}, 4 \\, {\\left(t - x\\right)}^{2} e^{\\left(-t^{2} + 2 \\, t x\\right)} - 2 \\, e^{\\left(-t^{2} + 2 \\, t x\\right)}, -8 \\, {\\left(t - x\\right)}^{3} e^{\\left(-t^{2} + 2 \\, t x\\right)} + 12 \\, {\\left(t - x\\right)} e^{\\left(-t^{2} + 2 \\, t x\\right)}, 16 \\, {\\left(t - x\\right)}^{4} e^{\\left(-t^{2} + 2 \\, t x\\right)} - 48 \\, {\\left(t - x\\right)}^{2} e^{\\left(-t^{2} + 2 \\, t x\\right)} + 12 \\, e^{\\left(-t^{2} + 2 \\, t x\\right)}, -32 \\, {\\left(t - x\\right)}^{5} e^{\\left(-t^{2} + 2 \\, t x\\right)} + 160 \\, {\\left(t - x\\right)}^{3} e^{\\left(-t^{2} + 2 \\, t x\\right)} - 120 \\, {\\left(t - x\\right)} e^{\\left(-t^{2} + 2 \\, t x\\right)}, 64 \\, {\\left(t - x\\right)}^{6} e^{\\left(-t^{2} + 2 \\, t x\\right)} - 480 \\, {\\left(t - x\\right)}^{4} e^{\\left(-t^{2} + 2 \\, t x\\right)} + 720 \\, {\\left(t - x\\right)}^{2} e^{\\left(-t^{2} + 2 \\, t x\\right)} - 120 \\, e^{\\left(-t^{2} + 2 \\, t x\\right)}\\right]</script></html>"
      ],
      "text/plain": [
       "[e^(-t^2 + 2*t*x),\n",
       " -2*(t - x)*e^(-t^2 + 2*t*x),\n",
       " 4*(t - x)^2*e^(-t^2 + 2*t*x) - 2*e^(-t^2 + 2*t*x),\n",
       " -8*(t - x)^3*e^(-t^2 + 2*t*x) + 12*(t - x)*e^(-t^2 + 2*t*x),\n",
       " 16*(t - x)^4*e^(-t^2 + 2*t*x) - 48*(t - x)^2*e^(-t^2 + 2*t*x) + 12*e^(-t^2 + 2*t*x),\n",
       " -32*(t - x)^5*e^(-t^2 + 2*t*x) + 160*(t - x)^3*e^(-t^2 + 2*t*x) - 120*(t - x)*e^(-t^2 + 2*t*x),\n",
       " 64*(t - x)^6*e^(-t^2 + 2*t*x) - 480*(t - x)^4*e^(-t^2 + 2*t*x) + 720*(t - x)^2*e^(-t^2 + 2*t*x) - 120*e^(-t^2 + 2*t*x)]"
      ]
     },
     "execution_count": 23,
     "metadata": {
     },
     "output_type": "execute_result"
    }
   ],
   "source": [
    "# plug in some values of n to make a conjecture for scalars relating hn and Hn\n",
    "Hlist = []\n",
    "for n in range(0,7):\n",
    "    new = G.diff(t,n)\n",
    "    Hlist.append(new)\n",
    "    print(\"H_\",n,\"=\",new)\n",
    "    \n",
    "show(Hlist)"
   ]
  },
  {
   "cell_type": "code",
   "execution_count": 24,
   "metadata": {
    "collapsed": false
   },
   "outputs": [
    {
     "data": {
      "text/html": [
       "<html><script type=\"math/tex; mode=display\">\\newcommand{\\Bold}[1]{\\mathbf{#1}}\\verb|H_0|\\phantom{\\verb!x!}\\verb|=|\\phantom{\\verb!x!}\\verb|G|\\phantom{\\verb!x!}\\verb|=| 1</script></html>"
      ],
      "text/plain": [
       "'H_0 = G =' 1"
      ]
     },
     "execution_count": 24,
     "metadata": {
     },
     "output_type": "execute_result"
    },
    {
     "data": {
      "text/html": [
       "<html><script type=\"math/tex; mode=display\">\\newcommand{\\Bold}[1]{\\mathbf{#1}}\\verb|H_1|\\phantom{\\verb!x!}\\verb|=|\\phantom{\\verb!x!}\\verb|dG|\\phantom{\\verb!x!}\\verb|=| 2 \\, x</script></html>"
      ],
      "text/plain": [
       "'H_1 = dG =' 2*x"
      ]
     },
     "execution_count": 24,
     "metadata": {
     },
     "output_type": "execute_result"
    },
    {
     "data": {
      "text/html": [
       "<html><script type=\"math/tex; mode=display\">\\newcommand{\\Bold}[1]{\\mathbf{#1}}\\verb|H_2|\\phantom{\\verb!x!}\\verb|=|\\phantom{\\verb!x!}\\verb|d2G|\\phantom{\\verb!x!}\\verb|=| 4 \\, x^{2} - 2</script></html>"
      ],
      "text/plain": [
       "'H_2 = d2G =' 4*x^2 - 2"
      ]
     },
     "execution_count": 24,
     "metadata": {
     },
     "output_type": "execute_result"
    },
    {
     "data": {
      "text/html": [
       "<html><script type=\"math/tex; mode=display\">\\newcommand{\\Bold}[1]{\\mathbf{#1}}\\verb|H_3|\\phantom{\\verb!x!}\\verb|=|\\phantom{\\verb!x!}\\verb|d3G|\\phantom{\\verb!x!}\\verb|=| 8 \\, x^{3} - 12 \\, x</script></html>"
      ],
      "text/plain": [
       "'H_3 = d3G =' 8*x^3 - 12*x"
      ]
     },
     "execution_count": 24,
     "metadata": {
     },
     "output_type": "execute_result"
    },
    {
     "data": {
      "text/html": [
       "<html><script type=\"math/tex; mode=display\">\\newcommand{\\Bold}[1]{\\mathbf{#1}}\\verb|H_4|\\phantom{\\verb!x!}\\verb|=|\\phantom{\\verb!x!}\\verb|d4G|\\phantom{\\verb!x!}\\verb|=| 16 \\, x^{4} - 48 \\, x^{2} + 12</script></html>"
      ],
      "text/plain": [
       "'H_4 = d4G =' 16*x^4 - 48*x^2 + 12"
      ]
     },
     "execution_count": 24,
     "metadata": {
     },
     "output_type": "execute_result"
    },
    {
     "data": {
      "text/html": [
       "<html><script type=\"math/tex; mode=display\">\\newcommand{\\Bold}[1]{\\mathbf{#1}}\\verb|H_5|\\phantom{\\verb!x!}\\verb|=|\\phantom{\\verb!x!}\\verb|d5G|\\phantom{\\verb!x!}\\verb|=| 32 \\, x^{5} - 160 \\, x^{3} + 120 \\, x</script></html>"
      ],
      "text/plain": [
       "'H_5 = d5G =' 32*x^5 - 160*x^3 + 120*x"
      ]
     },
     "execution_count": 24,
     "metadata": {
     },
     "output_type": "execute_result"
    },
    {
     "data": {
      "text/html": [
       "<html><script type=\"math/tex; mode=display\">\\newcommand{\\Bold}[1]{\\mathbf{#1}}\\verb|H_6|\\phantom{\\verb!x!}\\verb|=|\\phantom{\\verb!x!}\\verb|d6G|\\phantom{\\verb!x!}\\verb|=| 64 \\, x^{6} - 480 \\, x^{4} + 720 \\, x^{2} - 120</script></html>"
      ],
      "text/plain": [
       "'H_6 = d6G =' 64*x^6 - 480*x^4 + 720*x^2 - 120"
      ]
     },
     "execution_count": 24,
     "metadata": {
     },
     "output_type": "execute_result"
    }
   ],
   "source": [
    "t = 0\n",
    "H0 = e^(-t^2 + 2*t*x)\n",
    "H1 = -2*(t - x)*e^(-t^2 + 2*t*x)\n",
    "H2 = 4*(t - x)^2*e^(-t^2 + 2*t*x) - 2*e^(-t^2 + 2*t*x)\n",
    "H3 = -8*(t - x)^3*e^(-t^2 + 2*t*x) + 12*(t - x)*e^(-t^2 + 2*t*x)\n",
    "H4 = 16*(t - x)^4*e^(-t^2 + 2*t*x) - 48*(t - x)^2*e^(-t^2 + 2*t*x) + 12*e^(-t^2 + 2*t*x)\n",
    "H5 = -32*(t - x)^5*e^(-t^2 + 2*t*x) + 160*(t - x)^3*e^(-t^2 + 2*t*x) - 120*(t - x)*e^(-t^2 + 2*t*x)\n",
    "H6 = 64*(t - x)^6*e^(-t^2 + 2*t*x) - 480*(t - x)^4*e^(-t^2 + 2*t*x) + 720*(t - x)^2*e^(-t^2 + 2*t*x) - 120*e^(-t^2 + 2*t*x)\n",
    "\n",
    "show(\"H_0 = G =\",H0)\n",
    "show(\"H_1 = dG =\",H1)\n",
    "show(\"H_2 = d2G =\",H2)\n",
    "show(\"H_3 = d3G =\",H3)\n",
    "show(\"H_4 = d4G =\",H4)\n",
    "show(\"H_5 = d5G =\",H5)\n",
    "show(\"H_6 = d6G =\",H6)"
   ]
  },
  {
   "cell_type": "markdown",
   "metadata": {
    "collapsed": false
   },
   "source": [
    "From problem 4 we have $$h_0 = 1$$ $$h_1 = x$$ $$h_2 = -2x^2 + 1$$ $$h_3 = -\\frac{2}{3}x^3 + x$$ $$\\frac{4}{3}*x^4 - 4*x^2 + 1$$  and so on.  Thus, the equations for $h_n$ and $H_n$ both have order $n$ but are off by a coefficient.  I was unable to find a general pattern for to correct for the differences in the coefficients."
   ]
  },
  {
   "cell_type": "markdown",
   "metadata": {
    "collapsed": false
   },
   "source": [
    "<h3>\n",
    "    Problem 6\n",
    "</h3>\n",
    "Plot $h_j$ for $j=0,...,4$ on a single plot. Do the same for $H_j$ for $j=0,...,4$."
   ]
  },
  {
   "cell_type": "code",
   "execution_count": 31,
   "metadata": {
    "collapsed": false
   },
   "outputs": [
    {
     "data": {
      "image/png": "[encoded data removed]",
      "text/plain": [
       "Graphics object consisting of 5 graphics primitives"
      ]
     },
     "execution_count": 31,
     "metadata": {
     },
     "output_type": "execute_result"
    }
   ],
   "source": [
    "var('x')\n",
    "h = Graphics()\n",
    "h += plot(1, (x,-2,2), ymin=-2,ymax=2,color='green')\n",
    "h += plot(x, (x,-2,2), ymin=-2,ymax=2,color='red')\n",
    "h += plot((-2*x^2 + 1), (x,-2,2), ymin=-2,ymax=2, color='blue')\n",
    "h += plot((-2/3*x^3 + x), (x,-2,2), ymin=-2,ymax=2, color='teal')\n",
    "h += plot((4/3*x^4 - 4*x^2 + 1), (x,-2,2), ymin=-2,ymax=2, color='magenta')\n",
    "h.show()"
   ]
  },
  {
   "cell_type": "code",
   "execution_count": 30,
   "metadata": {
    "collapsed": false
   },
   "outputs": [
    {
     "data": {
      "image/png": "[encoded data removed]",
      "text/plain": [
       "Graphics object consisting of 5 graphics primitives"
      ]
     },
     "execution_count": 30,
     "metadata": {
     },
     "output_type": "execute_result"
    }
   ],
   "source": [
    "var('x')\n",
    "H = Graphics()\n",
    "H += plot(1, (x,-2,2), ymin=-2,ymax=2,color='green')\n",
    "H += plot(2*x, (x, -2, 2), ymin=-2,ymax=2,color='red')\n",
    "H += plot((4*x^2 - 2), (x, -2, 2),ymin=-2,ymax=2, color='blue')\n",
    "H += plot((8*x^3 - 12*x), (x,-2,2),ymin=-2,ymax=2, color='teal')\n",
    "H += plot((16*x^4-48*x^2+12), (x,-2,2), ymin=-2,ymax=2, color='magenta')\n",
    "H.show()"
   ]
  },
  {
   "cell_type": "markdown",
   "metadata": {
    "collapsed": false
   },
   "source": [
    "<h3>\n",
    "    Problem 7\n",
    "</h3>\n",
    "Show that $F(\\alpha,\\beta,\\gamma,x)$ converges on $(−1,1)$ and is a solution for (5) correspondingto the indical root zero."
   ]
  },
  {
   "cell_type": "markdown",
   "metadata": {
    "collapsed": false
   },
   "source": [
    "Let\n",
    "\\begin{align}\n",
    " P_0(x) & = -\\alpha \\beta, \\\\\n",
    " P_1(x) & = \\gamma - (1+\\alpha +\\beta )x, \\\\\n",
    " P_2(x) & = x(1-x)\n",
    "\\end{align}\n",
    "Then $$P_2(0) = P_2 (1)=0$$\n",
    "We can see that x = 0 and x = 1 are singular points.  Let's use the ratio test to check if x = 0 is regular:\n",
    "\\begin{align}\n",
    "\\lim_{x \\to a} \\frac{(x - a) P_1(x)}{P_2(x)} &=\\lim_{x \\to 0} \\frac{(x - 0)(\\gamma - (1 + \\alpha + \\beta)x)}{x(1 - x)}=\\lim_{x \\to 0} \\frac{x(\\gamma - (1 + \\alpha + \\beta)x)}{x(1 - x)}= \\gamma  \\\\ \n",
    " \\lim_{x \\to a} \\frac{(x - a)^2 P_0(x)}{P_2(x)} &= \\lim_{x \\to 0} \\frac{(x - 0)^2(-\\alpha \\beta)}{x(1 - x)} = \\lim_{x \\to 0} \\frac{x^2 (-\\alpha \\beta)}{x(1 - x)} = 0\n",
    "\\end{align}\n",
    "Thus, x = 0 is a regular singular point and we can assume a solution of the form $$y = \\sum_{n=0}^\\infty a_n x^{n+m}$$  "
   ]
  },
  {
   "cell_type": "markdown",
   "metadata": {
    "collapsed": false
   },
   "source": [
    "Then, $$y' = \\sum_{n=0}^\\infty a_n(n+m)x^{n+m-1}$$ and $$y'' = \\sum_{n=0}^\\infty a_n(n+m)(n+m-1)x^{n+m-2}$$ Thus, after subbing these sums into the hypergeometric equation and simplifying we get the indicial equation:   $$a_{0} (m(m - 1) + \\gamma m) = 0$$"
   ]
  },
  {
   "cell_type": "markdown",
   "metadata": {
    "collapsed": false
   },
   "source": [
    "Since $a_0 \\not = 0$, we have the indicial roots $m = 0$ and $m = 1-\\gamma$"
   ]
  },
  {
   "cell_type": "markdown",
   "metadata": {
    "collapsed": false
   },
   "source": [
    "The other terms give us the recurrence relation: $$a_n = \\frac{(n + m + \\alpha - 1)(n + m + \\beta - 1)}{(n + m)(n + m + \\gamma - 1)} a_{n - 1}, \\text{ for } n \\geq 1$$"
   ]
  },
  {
   "cell_type": "markdown",
   "metadata": {
    "collapsed": false
   },
   "source": [
    "After solving for a few terms, we can write the general formula: $$a_n =\\frac{(m + \\alpha)_n (m + \\beta)_n}{(m + 1)_n(m + \\gamma)_n} a_0, \\text{ for } n \\geq 0$$"
   ]
  },
  {
   "cell_type": "markdown",
   "metadata": {
    "collapsed": false
   },
   "source": [
    "This means our solution is of the form: $$y = a_0 \\sum_{n = 0}^\\infty \\frac{(m + \\alpha)_n (m + \\beta)_n}{(m + 1)_n (m + \\gamma)_n} x^{n + m}$$"
   ]
  },
  {
   "cell_type": "markdown",
   "metadata": {
    "collapsed": false
   },
   "source": [
    "Our formula for $a_n$ converges on(-1,1) by the ration test, the formula for $y$ we computed is a valid solution to the hypergeometric equation."
   ]
  },
  {
   "cell_type": "markdown",
   "metadata": {
    "collapsed": false
   },
   "source": [
    "<h3>\n",
    "    Problem 8\n",
    "</h3>\n",
    "Suppose that $\\gamma$ is not an integer and express a solution to (5) corresponding to the indical root $1-\\gamma$ in terms ofF. Give the general solution to (5) in terms of F."
   ]
  },
  {
   "cell_type": "markdown",
   "metadata": {
    "collapsed": false
   },
   "source": [
    "If we base the particular solution $y_1$ on the indicial root $m = 0$ and $y_2$ on the indicial root $m = 1 - \\gamma$, then we get:\n",
    "\\begin{align}\n",
    " y_1 &= a_0 \\sum_{r = 0}^\\infty \\frac{(\\alpha)_r (\\beta)_r}{(1)_r (\\gamma)_r} x^r = a_0 \\cdot {{}_2 F_1}(\\alpha, \\beta; \\gamma; x) \\\\ \n",
    " y_2 &= a_0 \\sum_{r = 0}^\\infty \\frac{(\\alpha + 1 - \\gamma)_r (\\beta + 1 - \\gamma)_r}{(1 - \\gamma + 1)_r (1 - \\gamma + \\gamma)_r} x^{r + 1 - \\gamma} \\\\\n",
    "       &= a_0 x^{1 - \\gamma} \\sum_{r = 0}^\\infty \\frac{(\\alpha + 1 - \\gamma)_r (\\beta + 1 - \\gamma)_r}{(1)_r (2 - \\gamma)_r} x^r \\\\ \n",
    "       &= a_0 x^{1 - \\gamma} {{}_2 F_1}(\\alpha - \\gamma + 1, \\beta - \\gamma + 1; 2 - \\gamma; x)\n",
    "\\end{align}"
   ]
  },
  {
   "cell_type": "markdown",
   "metadata": {
    "collapsed": false
   },
   "source": [
    "Thus our general solution is $y = A'y_1 + B'y_2$.  Also, if we let $A′ a_0 = a$ and $B′ a_0 = B$. Then $y = A_2F_1(\\alpha ,\\beta ;\\gamma ;x) + Bx^{1-\\gamma }_2F_1(\\alpha -\\gamma +1,\\beta -\\gamma +1;2-\\gamma ;x)$"
   ]
  },
  {
   "cell_type": "markdown",
   "metadata": {
    "collapsed": false
   },
   "source": [
    "<h3>\n",
    "    Problem 9\n",
    "</h3>\n",
    "Use the substitution $\\frac{1}{2}(1−x)=t$ to show that a particular solution to Legendre’s equation (2) is given by $$F(p+1,−p,1,12(1−x))$$."
   ]
  },
  {
   "cell_type": "code",
   "execution_count": 5,
   "metadata": {
    "collapsed": false
   },
   "outputs": [
    {
     "name": "stdout",
     "output_type": "stream",
     "text": [
      "At p = 0 ,\n",
      " y_1 gives 1\n",
      " y_2 gives x\n",
      "\n",
      "At p = 1 ,\n",
      " y_1 gives 1.0*x^8 - 7.0*x^7 + 22.0*x^6 - 40.0*x^5 + 46.0*x^4 - 34.0*x^3 + 16.0*x^2 - 4.0*x + 1.0\n",
      " y_2 gives 1.0*x^8 - 7.0*x^7 + 22.0*x^6 - 40.0*x^5 + 46.0*x^4 - 34.0*x^3 + 16.0*x^2 - 3.0*x\n",
      "\n",
      "At p = 2 ,\n",
      " y_1 gives 6561.0*x^8 - 50301.0*x^7 + 169128.0*x^6 - 325620.0*x^5 + 392526.0*x^4 - 303318.0*x^3 + 146700.0*x^2 - 40596.0*x + 4921.0\n",
      " y_2 gives 6561.0*x^8 - 50301.0*x^7 + 169128.0*x^6 - 325620.0*x^5 + 392526.0*x^4 - 303318.0*x^3 + 146700.0*x^2 - 40595.0*x + 4920.0\n",
      "\n",
      "At p = 3 ,\n",
      " y_1 gives 1679616.0*x^8 - 13156992.0*x^7 + 45116352.0*x^6 - 88452000.0*x^5 + 108437616.0*x^4 - 85121064.0*x^3 + 41779836.0*x^2 - 11723034.0*x + 1439671.0\n"
     ]
    },
    {
     "name": "stdout",
     "output_type": "stream",
     "text": [
      " y_2 gives 1679616.0*x^8 - 13156992.0*x^7 + 45116352.0*x^6 - 88452000.0*x^5 + 108437616.0*x^4 - 85121064.0*x^3 + 41779836.0*x^2 - 11723033.0*x + 1439670.0\n",
      "\n",
      "At p = 4 ,\n",
      " y_1 gives 100000000.0*x^8 - 790000000.0*x^7 + 2731000000.0*x^6 - 5395900000.0*x^5 + 6664510000.0*x^4 - 5269039000.0*x^3 + 2604057100.0*x^2 - 735537190.0*x + 90909091.0\n",
      " y_2 gives 100000000.0*x^8 - 790000000.0*x^7 + 2731000000.0*x^6 - 5395900000.0*x^5 + 6664510000.0*x^4 - 5269039000.0*x^3 + 2604057100.0*x^2 - 735537189.0*x + 90909090.0\n",
      "\n",
      "At p = 5 ,\n",
      " y_1 gives 2562890625.0*x^8 - 20332265625.0*x^7 + 70576312500.0*x^6 - 140001412500.0*x^5 + 173589378750.0*x^4 - 137762214750.0*x^3 + 68336450100.0*x^2 - 19371849060.0*x + 2402709961.0\n",
      " y_2 gives 2562890625.0*x^8 - 20332265625.0*x^7 + 70576312500.0*x^6 - 140001412500.0*x^5 + 173589378750.0*x^4 - 137762214750.0*x^3 + 68336450100.0*x^2 - 19371849059.0*x + 2402709960.0\n",
      "\n",
      "At p = 6 ,\n",
      " y_1 gives 37822859361.0*x^8 - 300781786347.0*x^7 + 1046518208442.0*x^6 - 2080767777480.0*x^5 + 2585828322126.0*x^4 - 2056717275354.0*x^3 + 1022463993096.0*x^2 - 290470182324.0*x + 36103638481.0\n"
     ]
    },
    {
     "name": "stdout",
     "output_type": "stream",
     "text": [
      " y_2 gives 37822859361.0*x^8 - 300781786347.0*x^7 + 1046518208442.0*x^6 - 2080767777480.0*x^5 + 2585828322126.0*x^4 - 2056717275354.0*x^3 + 1022463993096.0*x^2 - 290470182323.0*x + 36103638480.0\n",
      "\n",
      "At p = 7 ,\n",
      " y_1 gives 377801998336.0*x^8 - 3008923058176.0*x^7 + 10484487344128.0*x^6 - 20876434539520.0*x^5 + 25981030302976.0*x^4 - 20694127547968.0*x^3 + 10302164328400.0*x^2 - 2930773171396.0*x + 364774343221.0\n",
      " y_2 gives 377801998336.0*x^8 - 3008923058176.0*x^7 + 10484487344128.0*x^6 - 20876434539520.0*x^5 + 25981030302976.0*x^4 - 20694127547968.0*x^3 + 10302164328400.0*x^2 - 2930773171395.0*x + 364774343220.0\n",
      "\n",
      "At p = 8 ,\n",
      " y_1 gives 2821109907456.0*x^8 - 22490515095552.0*x^7 + 78444705042432.0*x^6 - 156349507599360.0*x^5 + 194767298862336.0*x^4 - 155282346730944.0*x^3 + 77377486975056.0*x^2 - 22033095055164.0*x + 2744863693741.0\n",
      " y_2 gives 2821109907456.0*x^8 - 22490515095552.0*x^7 + 78444705042432.0*x^6 - 156349507599360.0*x^5 + 194767298862336.0*x^4 - 155282346730944.0*x^3 + 77377486975056.0*x^2 - 22033095055163.0*x + 2744863693740.0\n",
      "\n"
     ]
    }
   ],
   "source": [
    "t,x = var('t,x')\n",
    "t = .5*(1-x)\n",
    "\n",
    "\n",
    "\n",
    "for p in range(0,9):\n",
    "    Alpha = p + 1\n",
    "    Beta = -p\n",
    "    Gamma = 1\n",
    "    g=1\n",
    "\n",
    "    for n in range(1,9):\n",
    "\n",
    "        prod1 = 1\n",
    "        \n",
    "        prod3 = 1\n",
    "\n",
    "        for k in range(1,n+1):\n",
    "\n",
    "            prod1 = prod1*Alpha*Beta\n",
    "            \n",
    "        for j in range(1,n+1):\n",
    "            \n",
    "            prod3 = prod3*1*Gamma\n",
    "            \n",
    "        g=g+((prod1/prod3)*t^(n))\n",
    "\n",
    "    print(\"At p =\",p,\",\\n\",\"y_1 gives\", g.full_simplify()) \n",
    "    \n",
    "    \n",
    "    h=x\n",
    "\n",
    "    for n in range(1,9):\n",
    "\n",
    "        prod2 = 1\n",
    "        \n",
    "        prod4 = 1\n",
    "\n",
    "        for k in range(1,n+1):\n",
    "\n",
    "            prod2 = prod2*(Alpha + 1 - Gamma)*(Beta + 1 - Gamma)\n",
    "            \n",
    "        for j in range(1,n+1):\n",
    "            \n",
    "            prod4 = prod4*1*(2-Gamma)\n",
    "\n",
    "        h=h+((prod2/prod4)*t^(n+1-Gamma))\n",
    "\n",
    "    print(\" y_2 gives\", h.full_simplify()) \n",
    "\n",
    "    print()"
   ]
  },
  {
   "cell_type": "markdown",
   "metadata": {
    "collapsed": false
   },
   "source": [
    "These polynomials resemble the Legendre polynomials.  We already proved that these are solutions to the hypergeometric equation."
   ]
  },
  {
   "cell_type": "markdown",
   "metadata": {
    "collapsed": false
   },
   "source": [
    "<h3>\n",
    "    Problem 10: Curiosity Element\n",
    "</h3>\n",
    "I chose to investigate the differential equations associated with the SIR model infectious disease spread from my Systems Ecology Modelling independent study last spring.  We can apply the model to the COVID 19 pandemic."
   ]
  },
  {
   "cell_type": "markdown",
   "metadata": {
    "collapsed": false
   },
   "source": [
    "More info about the model I used can be found here: https://www.maa.org/press/periodicals/loci/joma/the-sir-model-for-spread-of-disease-the-differential-equation-model, https://www.maa.org/press/periodicals/loci/joma/the-sir-model-for-spread-of-disease-the-contact-number"
   ]
  },
  {
   "cell_type": "markdown",
   "metadata": {
    "collapsed": false
   },
   "source": [
    "To model the global spread of COVID-19 I will define 3 differential equations.  To start define  $t$ measured in days, and 3 dependent variables: $S = S(t)$ is the number of susceptible individuals, $I = I(t)$ is the number of infected individuals, and $R = R(t)$ is the number of recovered individuals.  We can define 3 more dependent variables: $s(t) = S(t)/N$ is the proportion of susceptible individuals in a population of $N$ individuals, $i(t) = I(t)/N$ is the proportion of the total population that is infected, and $r(t) = R(t)/N$ is the proportion of the total population that is recovered.  This model assumes that people cannot get Sars-CoV-2 more than once, which is not neccessarily true.  We can now define three ordinary differential equations:\n",
    "\\begin{align}\n",
    "\\frac{ds}{dt} = -bs(t)i(t) \\\\\n",
    "\\frac{dr}{dt} = ki(t) \\\\\n",
    "\\frac{di}{dt} = bs(t)i(t) - ki(t)\n",
    "\\end{align}\n",
    "Where $b$ is a fixed number of contacts per day with infected individuals that applies to every individual, and $k$ is a fixed fraction of the infected group that recovers per day."
   ]
  },
  {
   "cell_type": "markdown",
   "metadata": {
    "collapsed": false
   },
   "source": [
    "We know that a typical COVID patient is infectious for about 14 days, so we can set $k = 1/14$.  Let $b = 1/2$, meaning each person comes in contact with an infectious COVID patient every 2 days.  Now we can try to solve and plot the equations with sage."
   ]
  },
  {
   "cell_type": "code",
   "execution_count": 17,
   "metadata": {
    "collapsed": false
   },
   "outputs": [
    {
     "name": "stdout",
     "output_type": "stream",
     "text": [
      "s = \n"
     ]
    },
    {
     "data": {
      "text/html": [
       "<html><script type=\"math/tex; mode=display\">\\newcommand{\\Bold}[1]{\\mathbf{#1}}C e^{\\left(-\\frac{1}{3} \\, \\int i\\left(x\\right)\\,{d x}\\right)}</script></html>"
      ],
      "text/plain": [
       "_C*e^(-1/3*integrate(_i(x), x))"
      ]
     },
     "execution_count": 17,
     "metadata": {
     },
     "output_type": "execute_result"
    },
    {
     "name": "stdout",
     "output_type": "stream",
     "text": [
      "i = \n"
     ]
    },
    {
     "data": {
      "text/html": [
       "<html><script type=\"math/tex; mode=display\">\\newcommand{\\Bold}[1]{\\mathbf{#1}}C e^{\\left(-\\frac{1}{14} \\, x + \\frac{1}{3} \\, \\int s\\left(x\\right)\\,{d x}\\right)}</script></html>"
      ],
      "text/plain": [
       "_C*e^(-1/14*x + 1/3*integrate(s(x), x))"
      ]
     },
     "execution_count": 17,
     "metadata": {
     },
     "output_type": "execute_result"
    },
    {
     "name": "stdout",
     "output_type": "stream",
     "text": [
      "r = \n"
     ]
    },
    {
     "data": {
      "text/html": [
       "<html><script type=\"math/tex; mode=display\">\\newcommand{\\Bold}[1]{\\mathbf{#1}}C + \\frac{1}{14} \\, \\int i\\left(x\\right)\\,{d x}</script></html>"
      ],
      "text/plain": [
       "_C + 1/14*integrate(_i(x), x)"
      ]
     },
     "execution_count": 17,
     "metadata": {
     },
     "output_type": "execute_result"
    },
    {
     "name": "stdout",
     "output_type": "stream",
     "text": [
      "r =\n"
     ]
    },
    {
     "data": {
      "text/html": [
       "<html><script type=\"math/tex; mode=display\">\\newcommand{\\Bold}[1]{\\mathbf{#1}}\\frac{1}{14} \\, C \\int e^{\\left(-\\frac{1}{14} \\, x + \\frac{1}{3} \\, \\int s\\left(x\\right)\\,{d x}\\right)}\\,{d x}</script></html>"
      ],
      "text/plain": [
       "1/14*_C*integrate(e^(-1/14*x + 1/3*integrate(s(x), x)), x)"
      ]
     },
     "execution_count": 17,
     "metadata": {
     },
     "output_type": "execute_result"
    }
   ],
   "source": [
    "# here t was changed to x to check for code errors\n",
    "from sage.symbolic.integration.integral import indefinite_integral\n",
    "\n",
    "x = var('x')\n",
    "s = function('s')(x)\n",
    "i = function('i')(x)\n",
    "r = function('r')(x)\n",
    "\n",
    "sus = desolve(diff(s,x) + (1/3)*i*s,s)\n",
    "imm = desolve(diff(i,x)-(1/3)*s*i + (1/14)*i,i)\n",
    "rec = desolve(diff(r,x)-(1/14)*i,r)\n",
    "\n",
    "print(\"s = \")\n",
    "sus.show()\n",
    "print(\"i = \")\n",
    "imm.show()\n",
    "print(\"r = \")\n",
    "rec.show()\n",
    "\n",
    "rec = (1/14)*indefinite_integral(imm,x)\n",
    "print(\"r =\")\n",
    "rec.show()"
   ]
  },
  {
   "cell_type": "markdown",
   "metadata": {
    "collapsed": false
   },
   "source": [
    "I am unable to graph the equations because they all depend on each other.  In order to graph I will need to do more research on solving systems of differential equations. This technique may involve the Wronskian and variation of parameters.  I don't have time to try this now, so maybe another time. "
   ]
  },
  {
   "cell_type": "code",
   "execution_count": 0,
   "metadata": {
    "collapsed": false
   },
   "outputs": [
   ],
   "source": [
   ]
  }
 ],
 "metadata": {
  "kernelspec": {
   "display_name": "SageMath 9.1",
   "language": "sagemath",
   "metadata": {
    "cocalc": {
     "description": "Open-source mathematical software system",
     "priority": 1,
     "url": "https://www.sagemath.org/"
    }
   },
   "name": "sage-9.1"
  },
  "language_info": {
   "codemirror_mode": {
    "name": "ipython",
    "version": 3
   },
   "file_extension": ".py",
   "mimetype": "text/x-python",
   "name": "python",
   "nbconvert_exporter": "python",
   "pygments_lexer": "ipython3",
   "version": "3.7.3"
  }
 },
 "nbformat": 4,
 "nbformat_minor": 4
}
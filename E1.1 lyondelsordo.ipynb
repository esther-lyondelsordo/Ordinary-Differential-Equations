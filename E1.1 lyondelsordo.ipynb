{
 "cells": [
  {
   "cell_type": "markdown",
   "metadata": {},
   "source": [
    "<h1> Great work!  5/5 </h1>"
   ]
  },
  {
   "cell_type": "markdown",
   "metadata": {},
   "source": [
    "<h2>\n",
    "    1.1 Exercises\n",
    "</h2>\n",
    "<h3>\n",
    "    E 1.1.1\n",
    "</h3>\n",
    "Verify that $y = 2*e^{-3x}$ is a solution to the diff eq $y' = -3y$."
   ]
  },
  {
   "cell_type": "code",
   "execution_count": 2,
   "metadata": {},
   "outputs": [],
   "source": [
    "x = var('x')"
   ]
  },
  {
   "cell_type": "code",
   "execution_count": 4,
   "metadata": {},
   "outputs": [],
   "source": [
    "# verify solution\n",
    "de = lambda y:diff(y,x) + (3*y)"
   ]
  },
  {
   "cell_type": "code",
   "execution_count": 5,
   "metadata": {},
   "outputs": [
    {
     "data": {
      "text/plain": [
       "0"
      ]
     },
     "execution_count": 5,
     "metadata": {},
     "output_type": "execute_result"
    }
   ],
   "source": [
    "de(2*e^(-3*x))"
   ]
  },
  {
   "cell_type": "markdown",
   "metadata": {},
   "source": [
    "The differential equation was indeed equal to zero when $y= 2*e^{-3x}$ was passed in as a solution, therefore this is a valid solution to the diff eq."
   ]
  },
  {
   "cell_type": "markdown",
   "metadata": {},
   "source": [
    "<h3>\n",
    "    E 1.1.2\n",
    "</h3>\n",
    "Verify that $x = t^3 +5$ is a solution to the diff eq $x' = 3t^2$."
   ]
  },
  {
   "cell_type": "code",
   "execution_count": 6,
   "metadata": {},
   "outputs": [],
   "source": [
    "t = var('t')"
   ]
  },
  {
   "cell_type": "code",
   "execution_count": 7,
   "metadata": {},
   "outputs": [],
   "source": [
    "# verify solution\n",
    "de = lambda x:diff(x,t) -(3*t^2)"
   ]
  },
  {
   "cell_type": "code",
   "execution_count": 9,
   "metadata": {},
   "outputs": [
    {
     "data": {
      "text/plain": [
       "0"
      ]
     },
     "execution_count": 9,
     "metadata": {},
     "output_type": "execute_result"
    }
   ],
   "source": [
    "de(t^3 +5)"
   ]
  },
  {
   "cell_type": "markdown",
   "metadata": {},
   "source": [
    "The differential equation was equal to zero when evaluated at $x = t^3 +5$, therefore this is a valid solution to the DE."
   ]
  },
  {
   "cell_type": "markdown",
   "metadata": {},
   "source": [
    "<h3>\n",
    "    E 1.1.3\n",
    "</h3>\n",
    "Substitute $x = e^{rt}$ into the diff eq $x'' + x' - 6x = 0$ and determine all values of $r$ that give a solution."
   ]
  },
  {
   "cell_type": "code",
   "execution_count": 14,
   "metadata": {},
   "outputs": [],
   "source": [
    "r,t = var('r,t')"
   ]
  },
  {
   "cell_type": "code",
   "execution_count": 15,
   "metadata": {},
   "outputs": [],
   "source": [
    "# define diff eq\n",
    "de = lambda x:diff(x,t,2) + diff(x,t) - 6*x"
   ]
  },
  {
   "cell_type": "code",
   "execution_count": 16,
   "metadata": {},
   "outputs": [
    {
     "data": {
      "text/plain": [
       "r^2*e^(r*t) + r*e^(r*t) - 6*e^(r*t)"
      ]
     },
     "execution_count": 16,
     "metadata": {},
     "output_type": "execute_result"
    }
   ],
   "source": [
    "# plug in solution\n",
    "de(exp(r*t))"
   ]
  },
  {
   "cell_type": "code",
   "execution_count": 17,
   "metadata": {},
   "outputs": [
    {
     "data": {
      "text/html": [
       "<html><script type=\"math/tex; mode=display\">\\newcommand{\\Bold}[1]{\\mathbf{#1}}r^{2} e^{\\left(r t\\right)} + r e^{\\left(r t\\right)} - 6 \\, e^{\\left(r t\\right)}</script></html>"
      ],
      "text/plain": [
       "r^2*e^(r*t) + r*e^(r*t) - 6*e^(r*t)"
      ]
     },
     "execution_count": 17,
     "metadata": {},
     "output_type": "execute_result"
    }
   ],
   "source": [
    "(r^2*e^(r*t) + r*e^(r*t) - 6*e^(r*t)).show()"
   ]
  },
  {
   "cell_type": "markdown",
   "metadata": {},
   "source": [
    "$exp(r*t)$ is never zero, so we can solve $r^2 + r - 6 = 0$ for $r$"
   ]
  },
  {
   "cell_type": "code",
   "execution_count": 19,
   "metadata": {},
   "outputs": [
    {
     "data": {
      "text/plain": [
       "[r == -3, r == 2]"
      ]
     },
     "execution_count": 19,
     "metadata": {},
     "output_type": "execute_result"
    }
   ],
   "source": [
    "solve(r^2 + r - 6 == 0, r)"
   ]
  },
  {
   "cell_type": "markdown",
   "metadata": {},
   "source": [
    "The values of r for which there are solutions are $r = -3$ and $r = 2$."
   ]
  },
  {
   "cell_type": "markdown",
   "metadata": {},
   "source": [
    "<h3>\n",
    "    E 1.1.4\n",
    "</h3>\n",
    "(a) Verify that, for any constant, $c$, the function $x(t) = 1 + c*e^{-t}$ solves $x' + x = 1$.  Find the $c$ for which this function solves the IVP $x' + x =1, x(0) = 3$."
   ]
  },
  {
   "cell_type": "code",
   "execution_count": 29,
   "metadata": {},
   "outputs": [],
   "source": [
    "c,t = var('c,t')"
   ]
  },
  {
   "cell_type": "code",
   "execution_count": 30,
   "metadata": {},
   "outputs": [],
   "source": [
    "#verify solution\n",
    "de = lambda x:diff(x,t) + x - 1"
   ]
  },
  {
   "cell_type": "code",
   "execution_count": 31,
   "metadata": {},
   "outputs": [
    {
     "data": {
      "text/plain": [
       "0"
      ]
     },
     "execution_count": 31,
     "metadata": {},
     "output_type": "execute_result"
    }
   ],
   "source": [
    "de(1 + c*e^(-t))"
   ]
  },
  {
   "cell_type": "markdown",
   "metadata": {},
   "source": [
    "The diff eq was equal to zero, so $x(t) = 1 + c * e^{-t}$ is a solution for all values of $c$."
   ]
  },
  {
   "cell_type": "markdown",
   "metadata": {},
   "source": [
    "Now, solving $x(t)$ for $c$ when $x(0) = 3$ gives $3 = 1 + c*e^{-0}$, so $3 = 1 +c$ and $c = 2$."
   ]
  },
  {
   "cell_type": "markdown",
   "metadata": {},
   "source": [
    "(b) Solve the IVP with SAGE:"
   ]
  },
  {
   "cell_type": "code",
   "execution_count": 33,
   "metadata": {},
   "outputs": [
    {
     "data": {
      "text/plain": [
       "[c == 2]"
      ]
     },
     "execution_count": 33,
     "metadata": {},
     "output_type": "execute_result"
    }
   ],
   "source": [
    "solve(3 == 1 + c*e^(0), c)"
   ]
  },
  {
   "cell_type": "markdown",
   "metadata": {},
   "source": [
    "<h3>\n",
    "    E 1.1.5\n",
    "</h3>\n",
    "Write a differential equation for a population, $P$, that is changing in time ($t$) such that the rate of change is proportional to the sqrt of $P$."
   ]
  },
  {
   "cell_type": "markdown",
   "metadata": {},
   "source": [
    "$k * \\frac{dP}{dt} = \\sqrt{P}$"
   ]
  }
 ],
 "metadata": {
  "kernelspec": {
   "display_name": "SageMath 9.1",
   "language": "sage",
   "name": "sagemath"
  },
  "language_info": {
   "codemirror_mode": {
    "name": "ipython",
    "version": 3
   },
   "file_extension": ".py",
   "mimetype": "text/x-python",
   "name": "python",
   "nbconvert_exporter": "python",
   "pygments_lexer": "ipython3",
   "version": "3.7.3"
  }
 },
 "nbformat": 4,
 "nbformat_minor": 4
}

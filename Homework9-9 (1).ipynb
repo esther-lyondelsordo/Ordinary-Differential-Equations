{
 "cells": [
  {
   "cell_type": "markdown",
   "metadata": {
    "collapsed": false
   },
   "source": [
    "<h1>\n",
    "    Homework 3, due 09/09/2020\n",
    "</h1>\n",
    "<h3>\n",
    "    Problem 1\n",
    "</h3>\n",
    "Verify that each of the following equations are homogenous.  Next, find the general solution by setting $z = \\frac{y}{x}$, solving the separable equation, and then converting back to $x$ and $y$.\n",
    "<br>\n",
    "A: $$(x^2-2y^2)dx + xydy = 0$$"
   ]
  },
  {
   "cell_type": "markdown",
   "metadata": {
    "collapsed": false
   },
   "source": [
    "Showing that the equation is homogeneous: $$(t^2x^2 - 2t^2y^2)dx + txtydy = 0$$"
   ]
  },
  {
   "cell_type": "markdown",
   "metadata": {
    "collapsed": false
   },
   "source": [
    "$$\\frac{dy}{dx} = \\frac{t^2(2y^2 - x^2)}{t^2xy}$$"
   ]
  },
  {
   "cell_type": "markdown",
   "metadata": {
    "collapsed": false
   },
   "source": [
    "$$\\frac{dy}{dx} = \\frac{(2y^2 - x^2)}{xy}$$\n",
    "So, the equation is homogenous of degree zero."
   ]
  },
  {
   "cell_type": "markdown",
   "metadata": {
    "collapsed": false
   },
   "source": [
    "To find the general solution, we can use the fact: \n",
    "$$\\frac{dy}{dx} = f(x,y) \\implies \\frac{dz}{f(1,z) - z}=\\frac{dx}{x}$$"
   ]
  },
  {
   "cell_type": "markdown",
   "metadata": {
    "collapsed": false
   },
   "source": [
    "$$f(1,z) - z = \\frac{2z^2 - 1}{z} - \\frac{z^2}{z} = \\frac{z^2-1}{z}$$"
   ]
  },
  {
   "cell_type": "markdown",
   "metadata": {
    "collapsed": false
   },
   "source": [
    "So, $$\\frac{zdz}{z^2 - 1} = \\frac{dx}{x}$$"
   ]
  },
  {
   "cell_type": "markdown",
   "metadata": {
    "collapsed": false
   },
   "source": [
    "Now we can integrate: $$\\int \\frac{zdz}{z^2 - 1} = \\int \\frac{dx}{x}$$"
   ]
  },
  {
   "cell_type": "code",
   "execution_count": 3,
   "metadata": {
    "collapsed": false
   },
   "outputs": [
    {
     "data": {
      "text/html": [
       "<html><script type=\"math/tex; mode=display\">\\newcommand{\\Bold}[1]{\\mathbf{#1}}\\frac{1}{2} \\, \\log\\left(z^{2} - 1\\right)</script></html>"
      ],
      "text/plain": [
       "1/2*log(z^2 - 1)"
      ]
     },
     "execution_count": 3,
     "metadata": {
     },
     "output_type": "execute_result"
    }
   ],
   "source": [
    "from sage.symbolic.integration.integral import indefinite_integral\n",
    "z= var('z')\n",
    "indefinite_integral((z/(z^2 - 1)),z).show()"
   ]
  },
  {
   "cell_type": "code",
   "execution_count": 4,
   "metadata": {
    "collapsed": false
   },
   "outputs": [
    {
     "data": {
      "text/html": [
       "<html><script type=\"math/tex; mode=display\">\\newcommand{\\Bold}[1]{\\mathbf{#1}}\\log\\left(x\\right)</script></html>"
      ],
      "text/plain": [
       "log(x)"
      ]
     },
     "execution_count": 4,
     "metadata": {
     },
     "output_type": "execute_result"
    }
   ],
   "source": [
    "from sage.symbolic.integration.integral import indefinite_integral\n",
    "x= var('x')\n",
    "indefinite_integral((1/(x)),x).show()"
   ]
  },
  {
   "cell_type": "markdown",
   "metadata": {
    "collapsed": false
   },
   "source": [
    "We get $$\\frac{1}{2}log\\vert z^2-1\\vert + C = log\\vert x\\vert$$  which simplifies to: $$y = k\\vert x\\vert \\sqrt{x^2 +1}$$"
   ]
  },
  {
   "cell_type": "markdown",
   "metadata": {
    "collapsed": false
   },
   "source": [
    "B: $$xy' = 2xe^{-y/x}$$"
   ]
  },
  {
   "cell_type": "markdown",
   "metadata": {
    "collapsed": false
   },
   "source": [
    "Showing that the equation is homogeneous: $$y' = 2(tx)e^{\\frac{-ty}{tx}}$$"
   ]
  },
  {
   "cell_type": "markdown",
   "metadata": {
    "collapsed": false
   },
   "source": [
    "$$y'= t(2xe^{-y/x})$$ So, the equation is homogeneous of degree 1."
   ]
  },
  {
   "cell_type": "markdown",
   "metadata": {
    "collapsed": false
   },
   "source": [
    "To find the general solution, we can use the same fact: \n",
    "$$\\frac{dy}{dx} = f(x,y) \\implies \\frac{dz}{f(1,z) - z}=\\frac{dx}{x}$$"
   ]
  },
  {
   "cell_type": "markdown",
   "metadata": {
    "collapsed": false
   },
   "source": [
    "To get: $$\\frac{dz}{2e^{z}} = \\frac{dx}{x}$$"
   ]
  },
  {
   "cell_type": "markdown",
   "metadata": {
    "collapsed": false
   },
   "source": [
    "Now we can integrate: $$\\int \\frac{dz}{2e^{z}} = \\int \\frac{dx}{x}$$"
   ]
  },
  {
   "cell_type": "markdown",
   "metadata": {
    "collapsed": false
   },
   "source": [
    "We get: $$-\\frac{1}{2e^z} + C = log\\vert x\\vert$$ which simplifies to: $$x = Ke^{e^{-y/x}}$$"
   ]
  },
  {
   "cell_type": "markdown",
   "metadata": {
    "collapsed": false
   },
   "source": [
    "C: $$xsin(y/x)\\frac{dy}{dx} = ysin(y/x) + x$$"
   ]
  },
  {
   "cell_type": "markdown",
   "metadata": {
    "collapsed": false
   },
   "source": [
    "So, $$\\frac{dy}{dx} = \\frac{y}{x} + \\frac{1}{sin(y/x)}$$"
   ]
  },
  {
   "cell_type": "markdown",
   "metadata": {
    "collapsed": false
   },
   "source": [
    "Showing that the equation is homogeneous: $$\\frac{dy}{dx} = \\frac{ty}{tx} + \\frac{1}{sin(ty/tx)}$$ $$\\frac{dy}{dx} = \\frac{y}{x} + \\frac{1}{sin(y/x)}$$ So the equation is homogeneous of degree zero."
   ]
  },
  {
   "cell_type": "markdown",
   "metadata": {
    "collapsed": false
   },
   "source": [
    "Using the fact: $$\\frac{dy}{dx} = f(x,y) \\implies \\frac{dz}{f(1,z) - z}=\\frac{dx}{x}$$ for $z = y/x$, we get:"
   ]
  },
  {
   "cell_type": "markdown",
   "metadata": {
    "collapsed": false
   },
   "source": [
    "$$f(1,z) - z = \\frac{1}{sin(z)}$$"
   ]
  },
  {
   "cell_type": "markdown",
   "metadata": {
    "collapsed": false
   },
   "source": [
    "$$sin(z)dz = \\frac{dx}{x}$$ Now we can integrate: $$\\int sin(z)dz = \\int \\frac{dx}{x}$$"
   ]
  },
  {
   "cell_type": "markdown",
   "metadata": {
    "collapsed": false
   },
   "source": [
    "We get: $$ -cos(z) + C = log\\vert x \\vert$$"
   ]
  },
  {
   "cell_type": "markdown",
   "metadata": {
    "collapsed": false
   },
   "source": [
    "Which simplifies to: $$x = Ke^{-cos(y/x)}$$"
   ]
  },
  {
   "cell_type": "markdown",
   "metadata": {
    "collapsed": false
   },
   "source": [
    "D: $$x^2y' = y^2 + 2xy$$"
   ]
  },
  {
   "cell_type": "markdown",
   "metadata": {
    "collapsed": false
   },
   "source": [
    "So, $$\\frac{dy}{dx} = (\\frac{y}{x})^2 + \\frac{2y}{x}$$"
   ]
  },
  {
   "cell_type": "markdown",
   "metadata": {
    "collapsed": false
   },
   "source": [
    "Showing that the equation is homogeneous: $$\\frac{dy}{dx} = (\\frac{ty}{tx})^2 + \\frac{2ty}{tx}$$ $$\\frac{dy}{dx} = (\\frac{y}{x})^2 + \\frac{2y}{x}$$ So, the equation is homogeneous of degree zero."
   ]
  },
  {
   "cell_type": "markdown",
   "metadata": {
    "collapsed": false
   },
   "source": [
    "Using the fact: $$\\frac{dy}{dx} = f(x,y) \\implies \\frac{dz}{f(1,z) - z}= \\frac{dx}{x}$$ for $z = y/x$, we get:"
   ]
  },
  {
   "cell_type": "markdown",
   "metadata": {
    "collapsed": false
   },
   "source": [
    "$$ f(1,z) - z = z^2 + z$$ and $$\\frac{dz}{z^2 + z}=\\frac{dx}{x}$$"
   ]
  },
  {
   "cell_type": "markdown",
   "metadata": {
    "collapsed": false
   },
   "source": [
    "Now we can integrate: $$\\int\\frac{dz}{z^2 + z}=\\int\\frac{dx}{x}$$"
   ]
  },
  {
   "cell_type": "markdown",
   "metadata": {
    "collapsed": false
   },
   "source": [
    "To get: $$log\\vert z\\vert - log\\vert z+1\\vert + C = log\\vert x\\vert$$ which simplifies to: $$x = e^{y/x} -e^{(y/x) + 1} + K$$"
   ]
  },
  {
   "cell_type": "markdown",
   "metadata": {
    "collapsed": false
   },
   "source": [
    "<h3>\n",
    "    Problem 2\n",
    "</h3>\n",
    "Show that the substitution $z = ax+by+c$ changes $y' = f(ax+by+c)$ into an equation with separable variables. Apply this method to find general solutions for the following equations:\n",
    "\n",
    "A: $$y' = (x+y)^2$$"
   ]
  },
  {
   "cell_type": "markdown",
   "metadata": {
    "collapsed": false
   },
   "source": [
    "So, $$\\frac{dy}{dx} = (x+y)^2$$ and $z = x+y$ so $y = z-x$"
   ]
  },
  {
   "cell_type": "markdown",
   "metadata": {
    "collapsed": false
   },
   "source": [
    "$$\\frac{dy}{dx} = \\frac{dz}{dx} - \\frac{dx}{dx}$$ so $$\\frac{dy}{dx} = \\frac{dz}{dx} -1$$"
   ]
  },
  {
   "cell_type": "markdown",
   "metadata": {
    "collapsed": false
   },
   "source": [
    "Now we can substitute in $z$ to get $$\\frac{dz}{dx} - 1 = z^2$$ $$\\frac{dz}{dx} = z^2 + 1$$"
   ]
  },
  {
   "cell_type": "markdown",
   "metadata": {
    "collapsed": false
   },
   "source": [
    "We get : $$\\frac{dz}{z^2 + 1} = dx$$ which we can integrate: $$\\int\\frac{dz}{z^2 + 1}=\\int dx$$ to get: $$x = arctan(z) + C$$ or $$x = arctan(\\frac{y}{x}) + C$$"
   ]
  },
  {
   "cell_type": "markdown",
   "metadata": {
    "collapsed": false
   },
   "source": [
    "B: $$y' = sin^2(x - y + 1)$$"
   ]
  },
  {
   "cell_type": "markdown",
   "metadata": {
    "collapsed": false
   },
   "source": [
    "So, $$\\frac{dy}{dx} = sin^2(x-y+1)$$ and $z = x-y+1$ so $y = x-z+1$"
   ]
  },
  {
   "cell_type": "markdown",
   "metadata": {
    "collapsed": false
   },
   "source": [
    "Now we can substitute in $z$ to get $$\\frac{dy}{dx} = sin^2(z)$$"
   ]
  },
  {
   "cell_type": "markdown",
   "metadata": {
    "collapsed": false
   },
   "source": [
    "Or: $$1 - \\frac{dz}{dx} = sin^2(z)$$"
   ]
  },
  {
   "cell_type": "markdown",
   "metadata": {
    "collapsed": false
   },
   "source": [
    "So, $$dx = \\frac{dz}{1-sin^2(z)}$$ can be integrated: $$\\int dx = \\int\\frac{dz}{1-sin^2(z)}$$"
   ]
  },
  {
   "cell_type": "markdown",
   "metadata": {
    "collapsed": false
   },
   "source": [
    "To get: $$log\\vert x\\vert = tan(z) + C$$ which simplifies to: $$x = Ke^{tan(y/x)}$$"
   ]
  },
  {
   "cell_type": "code",
   "execution_count": 0,
   "metadata": {
    "collapsed": false
   },
   "outputs": [
   ],
   "source": [
   ]
  }
 ],
 "metadata": {
  "kernelspec": {
   "display_name": "SageMath 9.1",
   "language": "sagemath",
   "metadata": {
    "cocalc": {
     "description": "Open-source mathematical software system",
     "priority": 10,
     "url": "https://www.sagemath.org/"
    }
   },
   "name": "sage-9.1"
  },
  "language_info": {
   "codemirror_mode": {
    "name": "ipython",
    "version": 3
   },
   "file_extension": ".py",
   "mimetype": "text/x-python",
   "name": "python",
   "nbconvert_exporter": "python",
   "pygments_lexer": "ipython3",
   "version": "3.7.3"
  }
 },
 "nbformat": 4,
 "nbformat_minor": 4
}
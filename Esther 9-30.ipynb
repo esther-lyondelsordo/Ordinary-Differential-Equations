{
 "cells": [
  {
   "cell_type": "markdown",
   "metadata": {},
   "source": [
    "<h1>\n",
    "    Homework Due 09/30\n",
    "</h1>\n",
    "<h2>\n",
    "    Joyner Hampton Section 2.1, page 68.  Your score is 5/7.\n",
    "</h2>\n",
    "<h3>\n",
    "    Problem #5: Good job: 1/1\n",
    "</h3>\n",
    "Solve the initial value problem. $\\newline$\n",
    "(a)$y′′−5y′+4y=0$, $y(0) = 0$, $y′(0) =−3$ $\\newline$\n",
    "(b)$y′′−2y′+5y=0$, $y(0) = 1$, $y′(0) =−2$."
   ]
  },
  {
   "cell_type": "markdown",
   "metadata": {},
   "source": [
    "(a) Using symbolic notation, we get characteristic polynomial $$r^2 - 5r + 4$$ with roots $r = 1$ and $r = 4$. Using the rule for reals, we get the General Solution $$y = c_1e^t + c_2e^{4t}$$ With the initial value $y(0) = 0$, we get $$0 = c_1 + c_2$$ so $$c_2 = -c_1$$. With initial value $y'(0) = -3$, and derivative $y' = c_1e^t + 4c_2e^{4t}$ we get $$-3 = c_1 + 4c_2 = - 3c_1$$ so $$c_1 = 1$$ and $$c_2 = -1$$ Therefore the solution is $$y = e^t - e^{4t}$$"
   ]
  },
  {
   "cell_type": "markdown",
   "metadata": {},
   "source": [
    "(b) With symbolic notation we get polynomial $$r^2 -2r +5$$ with roots $r = 1 \\pm 2i$. Thus, with the rule for complex roots, we get general solution $$y = c_1e^tcos(2t) + c_2e^tsin(2t)$$ and with the initial values, $$c_1 = 1$$ and $$c_2 = -3$$ giving the solution $$y = e^tcos(2t) -3e^tsin(2t)$$"
   ]
  },
  {
   "cell_type": "markdown",
   "metadata": {},
   "source": [
    "<h3>\n",
    "    Problem #7.  Good job: 1/1\n",
    "</h3>\n",
    "(a) Find the general solution to $x′′−x′−20x=0 \\newline$\n",
    "(b) Use the general solution to solve the initial value problem $x′′−x′−20x=0$, $x(0) = 1$, $x′(0) = 1$"
   ]
  },
  {
   "cell_type": "markdown",
   "metadata": {},
   "source": [
    "(a) with symbolic notation we get characteristic polynomial $$r^2 - r - 20$$ which has roots $r = 5$ and $r = -4$. Thus with the rule for real roots, we get the general solution $$x = c_1e^{5t} + c_2e^{-4t}$$"
   ]
  },
  {
   "cell_type": "markdown",
   "metadata": {},
   "source": [
    "(b) With $x = c_1e^{5t} + c_2e^{-4t}$ and $x' = 5c_1e^{5t} - 4c_2e^{-4t}$ and the initial values we get $$c_2 = 1 - c_1$$ from $x$ and $$1 = 5c_1 - 4c_2 = 5c_1 -4(1 - c_1)$$ so $$c_1 = \\frac{5}{9}$$ and $$c_2 = \\frac{4}{9}$$ giving the solution $$x = \\frac{5}{9}e^{5t} + \\frac{4}{9}e^{-4t}$$"
   ]
  },
  {
   "cell_type": "markdown",
   "metadata": {},
   "source": [
    "<h3>\n",
    "    Problem #9.  I think there is a typo below.  1/1\n",
    "</h3>\n",
    "Find the general solution to $4y′′+4y′+y=0$."
   ]
  },
  {
   "cell_type": "markdown",
   "metadata": {},
   "source": [
    "With symbolic notation we get the characteristic polynomial $$4r^2 + 4r + 1$$ which has only one root $r = -\\frac{1}{2}$. Thus, with the rule for this case from class, we get the general solution $$y = c_1e^{-\\frac{t}{2}} + c_2xe^{-\\frac{t}{2}}$$\n",
    "\n",
    "I think its a typo but you've used both $x$ and $t$ as the independent variables."
   ]
  },
  {
   "cell_type": "markdown",
   "metadata": {},
   "source": [
    "<h3>\n",
    "    Problem #12.  Good 1/1.\n",
    "</h3>\n",
    "For what second-order constant-coefficient linear homogeneous ODE would $y=C_1+C_2x$ be the general solution?"
   ]
  },
  {
   "cell_type": "markdown",
   "metadata": {},
   "source": [
    "If we take the derivative of this general solution twice, we get $$y' = C_2$$ and $$y'' = 0$$ so the only ODE with the given description with this solution is $$y'' = 0$$"
   ]
  },
  {
   "cell_type": "markdown",
   "metadata": {},
   "source": [
    "<h2>\n",
    "    Problems from Moodle\n",
    "</h2>\n",
    "Find the general solution for each DE:\n",
    "<h3>\n",
    "    Problem # 1.  Score .5/1\n",
    "</h3>\n",
    "$$y''+3y'-10y=6e^{4x}$$ Suppose $y = ae^{4x}$ is a solution to the complete equation. "
   ]
  },
  {
   "cell_type": "code",
   "execution_count": 11,
   "metadata": {},
   "outputs": [
    {
     "data": {
      "text/html": [
       "<html><script type=\"math/tex; mode=display\">\\newcommand{\\Bold}[1]{\\mathbf{#1}}{\\left(27 \\, a x + 11 \\, a - 6\\right)} e^{\\left(4 \\, x\\right)}</script></html>"
      ],
      "text/plain": [
       "(27*a*x + 11*a - 6)*e^(4*x)"
      ]
     },
     "execution_count": 11,
     "metadata": {},
     "output_type": "execute_result"
    }
   ],
   "source": [
    "a = var('a')\n",
    "\n",
    "y = a*x*exp(4*x)\n",
    "(diff(y,x,2)+3*diff(y,x,1)-y-6*e^(4*x)).full_simplify().show()"
   ]
  },
  {
   "cell_type": "code",
   "execution_count": 12,
   "metadata": {},
   "outputs": [
    {
     "data": {
      "text/plain": [
       "[a == 6/(27*x + 11)]"
      ]
     },
     "execution_count": 12,
     "metadata": {},
     "output_type": "execute_result"
    }
   ],
   "source": [
    "solve((27*a*x+11*a-6)*exp(4*x)==0, a)"
   ]
  },
  {
   "cell_type": "markdown",
   "metadata": {},
   "source": [
    "So, $y = \\frac{36}{27x+11}xe^{4x}$ solves the complete equation."
   ]
  },
  {
   "cell_type": "code",
   "execution_count": 13,
   "metadata": {},
   "outputs": [
    {
     "data": {
      "text/plain": [
       "6*(59049*x^3 + 40095*x^2 + 22869*x + 3091)*e^(4*x)/(19683*x^3 + 24057*x^2 + 9801*x + 1331)"
      ]
     },
     "execution_count": 13,
     "metadata": {},
     "output_type": "execute_result"
    }
   ],
   "source": [
    "y = (36/(27*x+11))*x*exp(4*x)\n",
    "(diff(y,x,2)+3*diff(y,x,1)-10*y-6*exp(4*x)).full_simplify()"
   ]
  },
  {
   "cell_type": "markdown",
   "metadata": {},
   "source": [
    "The above should be zero, so my solution is incorrect, but I don't have time to fix it. The reduced equation can be found with symbolic notation to get $y = ae^{-5x} + be^{2x}$"
   ]
  },
  {
   "cell_type": "code",
   "execution_count": 9,
   "metadata": {},
   "outputs": [
    {
     "data": {
      "text/plain": [
       "-6*e^(4*x)"
      ]
     },
     "execution_count": 9,
     "metadata": {},
     "output_type": "execute_result"
    }
   ],
   "source": [
    "y = a*exp(-5*x)+b*exp(2*x)\n",
    "\n",
    "(diff(y,x,2)+3*diff(y,x,1)-10*y-6*exp(4*x)).full_simplify()"
   ]
  },
  {
   "cell_type": "markdown",
   "metadata": {},
   "source": [
    "This should also be zero. To find the complete solution, we use the integral trick:\n",
    "\n",
    "\n",
    "But this can't possibly be true.  I'm not sure how the 'integral trick' helps.  You need to use undetermined coefficients now to find a solution to the complete equation."
   ]
  },
  {
   "cell_type": "code",
   "execution_count": 10,
   "metadata": {},
   "outputs": [
    {
     "data": {
      "text/plain": [
       "-1/7*e^(6*x)/(b^2*e^(7*x) + a*b) + 6*integrate(1/7*e^(6*x)/(b^2*e^(7*x) + a*b), x)"
      ]
     },
     "execution_count": 10,
     "metadata": {},
     "output_type": "execute_result"
    }
   ],
   "source": [
    "y = a*exp(-5*x)+b*exp(2*x)\n",
    "P = 3\n",
    "integrate(y^(-2)*exp(integrate(P,x)),x)"
   ]
  },
  {
   "cell_type": "markdown",
   "metadata": {},
   "source": [
    "<h3>\n",
    "    Problem # 2. Score .5/1\n",
    "</h3>\n",
    "$$y''+y=2cos x$$ Suppose $y = asinx+bcosx$ is a solution to the complete equation."
   ]
  },
  {
   "cell_type": "code",
   "execution_count": 15,
   "metadata": {},
   "outputs": [
    {
     "data": {
      "text/html": [
       "<html><script type=\"math/tex; mode=display\">\\newcommand{\\Bold}[1]{\\mathbf{#1}}-2 \\, b \\sin\\left(x\\right) - 2 \\, \\cos\\left(x\\right)</script></html>"
      ],
      "text/plain": [
       "-2*b*sin(x) - 2*cos(x)"
      ]
     },
     "execution_count": 15,
     "metadata": {},
     "output_type": "execute_result"
    }
   ],
   "source": [
    "a,b = var('a,b')\n",
    "y = a*sin(x) + b*x*cos(x)\n",
    "(diff(y,x,2)+y-2*cos(x)).full_simplify().show()"
   ]
  },
  {
   "cell_type": "code",
   "execution_count": 16,
   "metadata": {},
   "outputs": [
    {
     "data": {
      "text/plain": [
       "[b == -cos(x)/sin(x)]"
      ]
     },
     "execution_count": 16,
     "metadata": {},
     "output_type": "execute_result"
    }
   ],
   "source": [
    "solve(-2*b*sin(x)-2*cos(x)==0,b)"
   ]
  },
  {
   "cell_type": "markdown",
   "metadata": {},
   "source": [
    "It looks like you're trying to solve an initial value problem.  Up to now you have a solution to the reduced equation.  Now you need a solution to the complete equation."
   ]
  },
  {
   "cell_type": "markdown",
   "metadata": {},
   "source": [
    "<h3>\n",
    "    Problem # 3\n",
    "</h3>\n",
    "$$y''+y'=10x^4+2$$"
   ]
  },
  {
   "cell_type": "markdown",
   "metadata": {},
   "source": [
    "I ran out of time to finish #2 and #3"
   ]
  },
  {
   "cell_type": "code",
   "execution_count": 0,
   "metadata": {},
   "outputs": [],
   "source": []
  }
 ],
 "metadata": {
  "kernelspec": {
   "display_name": "SageMath 9.1",
   "language": "sage",
   "name": "sagemath"
  },
  "language_info": {
   "codemirror_mode": {
    "name": "ipython",
    "version": 3
   },
   "file_extension": ".py",
   "mimetype": "text/x-python",
   "name": "python",
   "nbconvert_exporter": "python",
   "pygments_lexer": "ipython3",
   "version": "3.7.3"
  }
 },
 "nbformat": 4,
 "nbformat_minor": 4
}

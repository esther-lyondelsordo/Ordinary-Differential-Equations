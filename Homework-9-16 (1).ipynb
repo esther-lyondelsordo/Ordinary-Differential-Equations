{
 "cells": [
  {
   "cell_type": "markdown",
   "metadata": {
    "collapsed": false
   },
   "source": [
    "<h1>\n",
    "    Homework Due 09/16\n",
    "</h1>\n",
    "<h3>\n",
    "    Simeod #2\n",
    "</h3>\n",
    "Consider the DE $$y'(t) + g(t)y(t) = h(t), y(0) = y_0 .$$\n",
    "<p>\n",
    "    (a) Outline or sketch out the process of solving this equation by using the integrating factor approach\n",
    "</p>\n",
    "<p>\n",
    "    (b)  Discuss any problems (even insurmountable issues) that you could expect to have along the way.\n",
    "</p>"
   ]
  },
  {
   "cell_type": "markdown",
   "metadata": {
    "collapsed": false
   },
   "source": [
    "<p>\n",
    "    (a) The first step in using the integrating factors approach would be to get the DE into a form that resembles the product rule or the quotient rule. The product rule is $$d(ab) = ab' - a'b$$ and the quotient rule is $$d(\\frac{a}{b}) = \\frac{a'b - ab'}{b^2}$$. You would start by setting $y'$ equal the rest of the equation. $$y'(t) = h(t) - g(t)y(t)$$ Next, you would solve for y or, if needed, introduce an unknown function to be multiplied by or divided by y, and solve for the unknown function, which you would then solve for y.\n",
    "</p>\n",
    "<p>\n",
    "    (b) It would be very difficult to apply this technique to the given DE because there are 3 unknown functions and there is no way to arrange the equation into the form of the product or quotient rule.  The product and quotient rules only have two functions, and the derivatives of both.  Multiplying in another function would leave us with 4 unknown functions instead of simplifying our form.\n",
    "</p>"
   ]
  },
  {
   "cell_type": "markdown",
   "metadata": {
    "collapsed": false
   },
   "source": [
    "<h3>\n",
    "    Simeod #5\n",
    "</h3>\n",
    "We are in the last week of a chemical production effort and we are planning to draw down the liquid in our tank, but our manager wants to run the facility as much as possible in this last week of operation to get the most out of the bio-process in the tank. Originally, the tank contains 1,000 gallons (gal) of water with 27 pounds (lb) of our bio-asset material completely dissolved in the water. We add water containing 0.08 lb/gal of our bio-asset material to the tank at a rate of 12 gal/hr, mix it thoroughly and instantly with power mixing blades, and continuously draw off 20 gal/hr of thoroughly mixed solution.\n",
    "<p> Integrating Factor </p>\n",
    "<p>a) Build a differential equation model for the amount of bio-asset in our tank at time t hrs.</p>\n",
    "<p>b) Explain why a separation of variables strategy will not work in solving this differential\n",
    "    equation and why you will use integrating factor approach.</p>\n",
    "<p>c) Solve your differential equation and plot the solution over the last week of operation.</p>\n",
    "<p>d) When the concentration in the tank is 0.06 lb/gal or greater then the bio-process in the\n",
    "tank is ineffective and the manager will no longer maintain commercial operation of the\n",
    "tank, but rather just let it empty without any commercial benefit. How long into this last\n",
    "week will the manager be able to run the operation for commercial value? How long does\n",
    "    it take the tank to fully empty of liquid? </p>\n",
    "<p>e) Discuss problems we might have with regard to some of the operating assumptions of our\n",
    "    tank and system.</p>"
   ]
  },
  {
   "cell_type": "markdown",
   "metadata": {
    "collapsed": false
   },
   "source": [
    "(a) $$\\frac{dy}{dt} = .96 - \\frac{20}{1000}y, \\:y(0) = 27$$"
   ]
  },
  {
   "cell_type": "markdown",
   "metadata": {
    "collapsed": false
   },
   "source": [
    "(b) This is not a separable equation so integrating factors must be used. In addition, this equation has the form of the product rule."
   ]
  },
  {
   "cell_type": "markdown",
   "metadata": {
    "collapsed": false
   },
   "source": [
    "(c) Solve and plot with SAGE:"
   ]
  },
  {
   "cell_type": "code",
   "execution_count": 1,
   "metadata": {
    "collapsed": false
   },
   "outputs": [
   ],
   "source": [
    "t = var('t')"
   ]
  },
  {
   "cell_type": "code",
   "execution_count": 2,
   "metadata": {
    "collapsed": false
   },
   "outputs": [
   ],
   "source": [
    "x = function('x')(t)"
   ]
  },
  {
   "cell_type": "code",
   "execution_count": 3,
   "metadata": {
    "collapsed": false
   },
   "outputs": [
   ],
   "source": [
    "de = lambda y:diff(y,t) - 0.96 - ((20*y)/1000)"
   ]
  },
  {
   "cell_type": "code",
   "execution_count": 4,
   "metadata": {
    "collapsed": false
   },
   "outputs": [
    {
     "data": {
      "text/html": [
       "<html><script type=\"math/tex; mode=display\">\\newcommand{\\Bold}[1]{\\mathbf{#1}}{\\left(C - 48 \\, e^{\\left(-\\frac{1}{50} \\, t\\right)}\\right)} e^{\\left(\\frac{1}{50} \\, t\\right)}</script></html>"
      ],
      "text/plain": [
       "(_C - 48*e^(-1/50*t))*e^(1/50*t)"
      ]
     },
     "execution_count": 4,
     "metadata": {
     },
     "output_type": "execute_result"
    }
   ],
   "source": [
    "desolve(de(x),[x,t]).show()"
   ]
  },
  {
   "cell_type": "markdown",
   "metadata": {
    "collapsed": false
   },
   "source": [
    "We know that the initial conditions are $y(0) = 27$, so $C = 75$"
   ]
  },
  {
   "cell_type": "code",
   "execution_count": 5,
   "metadata": {
    "collapsed": false
   },
   "outputs": [
    {
     "data": {
      "image/png": "[encoded data removed]",
      "text/plain": [
       "Graphics object consisting of 1 graphics primitive"
      ]
     },
     "execution_count": 5,
     "metadata": {
     },
     "output_type": "execute_result"
    }
   ],
   "source": [
    "plot(75-48*e^((-1/50)*t)*e^(t/50), (t,0,1000))"
   ]
  },
  {
   "cell_type": "markdown",
   "metadata": {
    "collapsed": false
   },
   "source": [
    "(d) I was unable to see any change in the concentration from my plot so it must be incorrect, the concentration appears to remain above 0.06 lbs/gal"
   ]
  },
  {
   "cell_type": "markdown",
   "metadata": {
    "collapsed": false
   },
   "source": [
    "(e) We aren't taking into account changes in concentration due to other environmental variables such as temperature and pressure."
   ]
  },
  {
   "cell_type": "markdown",
   "metadata": {
    "collapsed": false
   },
   "source": [
    "<h3>\n",
    "    Problem 12 from page 32 of Joyner-Hampton\n",
    "</h3>\n",
    "FInd the general solution: $$y'+ 4y = 2xe^{-4x}, y(0) = 0$$"
   ]
  },
  {
   "cell_type": "markdown",
   "metadata": {
    "collapsed": false
   },
   "source": [
    "This is of form $$y' + p(t)y = q(t)$$ where $$p(t) = 4, q(t) = 2xe^{-4x}$$"
   ]
  },
  {
   "cell_type": "code",
   "execution_count": 2,
   "metadata": {
    "collapsed": false
   },
   "outputs": [
   ],
   "source": [
    "t = var('t')"
   ]
  },
  {
   "cell_type": "code",
   "execution_count": 11,
   "metadata": {
    "collapsed": false
   },
   "outputs": [
   ],
   "source": [
    "x = function('x')(t)"
   ]
  },
  {
   "cell_type": "code",
   "execution_count": 5,
   "metadata": {
    "collapsed": false
   },
   "outputs": [
   ],
   "source": [
    "de = lambda y: diff(y,t) + 4*y - 2*t*e^(-4*t)"
   ]
  },
  {
   "cell_type": "code",
   "execution_count": 8,
   "metadata": {
    "collapsed": false
   },
   "outputs": [
    {
     "data": {
      "text/html": [
       "<html><script type=\"math/tex; mode=display\">\\newcommand{\\Bold}[1]{\\mathbf{#1}}{\\left(t^{2} + C\\right)} e^{\\left(-4 \\, t\\right)}</script></html>"
      ],
      "text/plain": [
       "(t^2 + _C)*e^(-4*t)"
      ]
     },
     "execution_count": 8,
     "metadata": {
     },
     "output_type": "execute_result"
    }
   ],
   "source": [
    "desolve(de(x),[x,t]).show()"
   ]
  },
  {
   "cell_type": "markdown",
   "metadata": {
    "collapsed": false
   },
   "source": [
    "So, the general solution is: $$y = x^{2}e^{-4x}$$"
   ]
  },
  {
   "cell_type": "markdown",
   "metadata": {
    "collapsed": false
   },
   "source": [
    "<h3>\n",
    "    Problem 13 from page 32 of Joyner-Hampton\n",
    "</h3>\n",
    "Find the general solution: $$y' = cos(x) - ycos(x), y(0) = 1$$"
   ]
  },
  {
   "cell_type": "markdown",
   "metadata": {
    "collapsed": false
   },
   "source": [
    "This is of form $$y' + p(t)y = q(t)$$ where $$p(t) = cos(x), q(t) = cos(x)$$"
   ]
  },
  {
   "cell_type": "code",
   "execution_count": 10,
   "metadata": {
    "collapsed": false
   },
   "outputs": [
   ],
   "source": [
    "t = var('t')"
   ]
  },
  {
   "cell_type": "code",
   "execution_count": 12,
   "metadata": {
    "collapsed": false
   },
   "outputs": [
   ],
   "source": [
    "x = function('x')(t)"
   ]
  },
  {
   "cell_type": "code",
   "execution_count": 13,
   "metadata": {
    "collapsed": false
   },
   "outputs": [
   ],
   "source": [
    "de = lambda y: diff(y,t) + cos(t)*y - cos(t)"
   ]
  },
  {
   "cell_type": "code",
   "execution_count": 14,
   "metadata": {
    "collapsed": false
   },
   "outputs": [
    {
     "data": {
      "text/html": [
       "<html><script type=\"math/tex; mode=display\">\\newcommand{\\Bold}[1]{\\mathbf{#1}}{\\left(C + e^{\\sin\\left(t\\right)}\\right)} e^{\\left(-\\sin\\left(t\\right)\\right)}</script></html>"
      ],
      "text/plain": [
       "(_C + e^sin(t))*e^(-sin(t))"
      ]
     },
     "execution_count": 14,
     "metadata": {
     },
     "output_type": "execute_result"
    }
   ],
   "source": [
    "desolve(de(x),[x,t]).show()"
   ]
  },
  {
   "cell_type": "markdown",
   "metadata": {
    "collapsed": false
   },
   "source": [
    "So, the general solution is: $$y = e^{sin(x)}e^{-sin(x)}$$"
   ]
  },
  {
   "cell_type": "markdown",
   "metadata": {
    "collapsed": false
   },
   "source": [
    "<h3>\n",
    "    Problem 14 from page 32 of Joyner-Hampton\n",
    "</h3>\n",
    "In carbon-dating organic material it is assumed that the amount of carbon-14 (14C)decays exponentially $(\\frac{d}{dt}(^{14}C) = −k ^{14}C)$ with rate constant of k≈0.0001216 where t is measured in years. Suppose an archeological bone sample contains 1/7 as muchcarbon-14 as is in a recent sample (but which dates from before 1950). How old is the bone?"
   ]
  },
  {
   "cell_type": "markdown",
   "metadata": {
    "collapsed": false
   },
   "source": [
    "We can write the DE as $\\frac{dC}{dt} + kC = 0$. This is of form $$y' + p(t)y = q(t)$$ where $$p(t) = k = 0.0001216, q(t) = 0$$"
   ]
  },
  {
   "cell_type": "code",
   "execution_count": 5,
   "metadata": {
    "collapsed": false
   },
   "outputs": [
   ],
   "source": [
    "t = var('t')"
   ]
  },
  {
   "cell_type": "code",
   "execution_count": 0,
   "metadata": {
    "collapsed": false
   },
   "outputs": [
   ],
   "source": [
    "x = function('x')(t)"
   ]
  },
  {
   "cell_type": "code",
   "execution_count": 3,
   "metadata": {
    "collapsed": false
   },
   "outputs": [
   ],
   "source": [
    "de = lambda C: diff(C,t) + 0.0001216*C"
   ]
  },
  {
   "cell_type": "code",
   "execution_count": 6,
   "metadata": {
    "collapsed": false
   },
   "outputs": [
    {
     "data": {
      "text/html": [
       "<html><script type=\"math/tex; mode=display\">\\newcommand{\\Bold}[1]{\\mathbf{#1}}C e^{\\left(-\\frac{19}{156250} \\, t\\right)}</script></html>"
      ],
      "text/plain": [
       "_C*e^(-19/156250*t)"
      ]
     },
     "execution_count": 6,
     "metadata": {
     },
     "output_type": "execute_result"
    }
   ],
   "source": [
    "desolve(de(x),[x,t]).show()"
   ]
  },
  {
   "cell_type": "markdown",
   "metadata": {
    "collapsed": false
   },
   "source": [
    "So, we get $$\\frac{1}{7} = 1e^{-\\frac{19}{156250}t}$$"
   ]
  },
  {
   "cell_type": "code",
   "execution_count": 8,
   "metadata": {
    "collapsed": false
   },
   "outputs": [
    {
     "data": {
      "text/plain": [
       "[t == 156250*log(7^(1/19)*e^(2/19*I*pi)), t == 156250*log(7^(1/19)*e^(4/19*I*pi)), t == 156250*log(7^(1/19)*e^(6/19*I*pi)), t == 156250*log(7^(1/19)*e^(8/19*I*pi)), t == 156250*log(7^(1/19)*e^(10/19*I*pi)), t == 156250*log(7^(1/19)*e^(12/19*I*pi)), t == 156250*log(7^(1/19)*e^(14/19*I*pi)), t == 156250*log(7^(1/19)*e^(16/19*I*pi)), t == 156250*log(7^(1/19)*e^(18/19*I*pi)), t == -2812500/19*I*pi + 156250/19*log(7), t == -2500000/19*I*pi + 156250/19*log(7), t == -2187500/19*I*pi + 156250/19*log(7), t == -1875000/19*I*pi + 156250/19*log(7), t == -1562500/19*I*pi + 156250/19*log(7), t == -1250000/19*I*pi + 156250/19*log(7), t == -937500/19*I*pi + 156250/19*log(7), t == -625000/19*I*pi + 156250/19*log(7), t == -312500/19*I*pi + 156250/19*log(7), t == 156250/19*log(7)]"
      ]
     },
     "execution_count": 8,
     "metadata": {
     },
     "output_type": "execute_result"
    }
   ],
   "source": [
    "#solving for t:\n",
    "solve((1/7) == e^(-(19*t)/156250), t)"
   ]
  },
  {
   "cell_type": "markdown",
   "metadata": {
    "collapsed": false
   },
   "source": [
    "SAGE gives too many solutions. Solving by hand gives $$t = 16,003.47231 \\:years$$ So, the bone is approximately 16,003 years old."
   ]
  },
  {
   "cell_type": "code",
   "execution_count": 0,
   "metadata": {
    "collapsed": false
   },
   "outputs": [
   ],
   "source": [
   ]
  }
 ],
 "metadata": {
  "kernelspec": {
   "display_name": "SageMath 9.1",
   "language": "sagemath",
   "metadata": {
    "cocalc": {
     "description": "Open-source mathematical software system",
     "priority": 10,
     "url": "https://www.sagemath.org/"
    }
   },
   "name": "sage-9.1"
  },
  "language_info": {
   "codemirror_mode": {
    "name": "ipython",
    "version": 3
   },
   "file_extension": ".py",
   "mimetype": "text/x-python",
   "name": "python",
   "nbconvert_exporter": "python",
   "pygments_lexer": "ipython3",
   "version": "3.7.3"
  }
 },
 "nbformat": 4,
 "nbformat_minor": 4
}
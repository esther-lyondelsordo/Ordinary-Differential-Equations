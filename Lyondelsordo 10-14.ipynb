{
 "cells": [
  {
   "cell_type": "markdown",
   "metadata": {},
   "source": [
    "<h3>\n",
    "    Problem #1 from p.92 of Joyner Hampton\n",
    "</h3>\n",
    "Find the general solution to $y′′ + 4y=\\frac{2}{\\cos(2x)}$ using variation of parameters."
   ]
  },
  {
   "cell_type": "code",
   "execution_count": 4,
   "metadata": {},
   "outputs": [
    {
     "data": {
      "text/plain": [
       "_K2*cos(2*x) + _K1*sin(2*x)"
      ]
     },
     "execution_count": 4,
     "metadata": {},
     "output_type": "execute_result"
    }
   ],
   "source": [
    "x = var('x')\n",
    "y = function('y')(x)\n",
    "desolve(diff(y,x,2)+4*y==0,y)"
   ]
  },
  {
   "cell_type": "code",
   "execution_count": 7,
   "metadata": {},
   "outputs": [],
   "source": [
    "y1 = cos(2*x)\n",
    "y2 = sin(2*x)\n",
    "R = 2/cos(2*x)\n",
    "dy1 = diff(y1,x)\n",
    "dy2 = diff(y2,x)\n",
    "w = y1*dy2 - y2*dy1\n",
    "du1 = (-y2*R)/w\n",
    "du2 = (y1*R)/w"
   ]
  },
  {
   "cell_type": "code",
   "execution_count": 8,
   "metadata": {},
   "outputs": [],
   "source": [
    "u1 = integrate(du1,x)\n",
    "u2 = integrate(du2,x)"
   ]
  },
  {
   "cell_type": "code",
   "execution_count": 9,
   "metadata": {},
   "outputs": [
    {
     "name": "stdout",
     "output_type": "stream",
     "text": [
      "y_p is:\n"
     ]
    },
    {
     "data": {
      "text/html": [
       "<html><script type=\"math/tex; mode=display\">\\newcommand{\\Bold}[1]{\\mathbf{#1}}\\frac{1}{4} \\, \\cos\\left(2 \\, x\\right) \\log\\left(-\\sin\\left(2 \\, x\\right)^{2} + 1\\right) + x \\sin\\left(2 \\, x\\right)</script></html>"
      ],
      "text/plain": [
       "1/4*cos(2*x)*log(-sin(2*x)^2 + 1) + x*sin(2*x)"
      ]
     },
     "execution_count": 9,
     "metadata": {},
     "output_type": "execute_result"
    }
   ],
   "source": [
    "y_p = u1*y1 + u2*y2\n",
    "print(\"y_p is:\")\n",
    "y_p.simplify().show()"
   ]
  },
  {
   "cell_type": "markdown",
   "metadata": {},
   "source": [
    "So, the general solution is: $$y = A\\cos(2x) + B\\sin(2x) + \\frac{1}{4}\\cos(2x)\\log(-\\sin(2x)^2 + 1) + x\\sin(2x)$$\n",
    "\n",
    "Eric:  Looks good 1/1."
   ]
  },
  {
   "cell_type": "markdown",
   "metadata": {},
   "source": [
    "<h3>\n",
    "    Problem #2 from p.92 of Joyner Hampton\n",
    "</h3>\n",
    "Use the variation of parameters method to find the general solution of $$y′′−2y′+ y = \\frac{e^x}{x}$$"
   ]
  },
  {
   "cell_type": "code",
   "execution_count": 14,
   "metadata": {},
   "outputs": [
    {
     "data": {
      "text/plain": [
       "(_K2*x + _K1)*e^x"
      ]
     },
     "execution_count": 14,
     "metadata": {},
     "output_type": "execute_result"
    }
   ],
   "source": [
    "x = var('x')\n",
    "y = function('y')(x)\n",
    "desolve(diff(y,x,2)-2*diff(y,x)+y==0,y).simplify()"
   ]
  },
  {
   "cell_type": "code",
   "execution_count": 11,
   "metadata": {},
   "outputs": [],
   "source": [
    "y1 = x*e^x\n",
    "y2 = e^x\n",
    "R = e^x/x\n",
    "dy1 = diff(y1,x)\n",
    "dy2 = diff(y2,x)\n",
    "w = y1*dy2 - y2*dy1\n",
    "du1 = (-y2*R)/w\n",
    "du2 = (y1*R)/w"
   ]
  },
  {
   "cell_type": "code",
   "execution_count": 12,
   "metadata": {},
   "outputs": [],
   "source": [
    "u1 = integrate(du1,x)\n",
    "u2 = integrate(du2,x)"
   ]
  },
  {
   "cell_type": "code",
   "execution_count": 13,
   "metadata": {},
   "outputs": [
    {
     "name": "stdout",
     "output_type": "stream",
     "text": [
      "y_p is:\n"
     ]
    },
    {
     "data": {
      "text/html": [
       "<html><script type=\"math/tex; mode=display\">\\newcommand{\\Bold}[1]{\\mathbf{#1}}x e^{x} \\log\\left(x\\right) - x e^{x}</script></html>"
      ],
      "text/plain": [
       "x*e^x*log(x) - x*e^x"
      ]
     },
     "execution_count": 13,
     "metadata": {},
     "output_type": "execute_result"
    }
   ],
   "source": [
    "y_p = u1*y1 + u2*y2\n",
    "print(\"y_p is:\")\n",
    "y_p.simplify().show()"
   ]
  },
  {
   "cell_type": "markdown",
   "metadata": {},
   "source": [
    "So, the general solution is: $$y = Axe^x + Be^x + xe^x\\log(x) - xe^x$$\n",
    "\n",
    "Eric: Good work. 1/1."
   ]
  },
  {
   "cell_type": "markdown",
   "metadata": {},
   "source": [
    "<h3>\n",
    "    Problem #3 from p.92 of Joyner Hampton\n",
    "</h3>\n",
    "Use the variation of parameters method to solve $$x′′+ 2x= \\tan(2t)$$"
   ]
  },
  {
   "cell_type": "code",
   "execution_count": 8,
   "metadata": {},
   "outputs": [
    {
     "data": {
      "text/plain": [
       "_K2*cos(sqrt(2)*t) + _K1*sin(sqrt(2)*t)"
      ]
     },
     "execution_count": 8,
     "metadata": {},
     "output_type": "execute_result"
    }
   ],
   "source": [
    "t = var('t')\n",
    "x = function('x')(t)\n",
    "desolve(diff(x,t,2) + 2*x==0,x).simplify()"
   ]
  },
  {
   "cell_type": "code",
   "execution_count": 9,
   "metadata": {},
   "outputs": [],
   "source": [
    "y1 = cos(sqrt(2)*x)\n",
    "y2 = sin(sqrt(2)*x)\n",
    "R = tan(2*x)\n",
    "dy1 = diff(y1,x)\n",
    "dy2 = diff(y2,x)\n",
    "w = y1*dy2 - y2*dy1\n",
    "du1 = (-y2*R)/w\n",
    "du2 = (y1*R)/w"
   ]
  },
  {
   "cell_type": "code",
   "execution_count": 10,
   "metadata": {},
   "outputs": [],
   "source": [
    "u1 = integrate(du1,x)\n",
    "u2 = integrate(du2,x)"
   ]
  },
  {
   "cell_type": "code",
   "execution_count": 0,
   "metadata": {},
   "outputs": [],
   "source": [
    "y_p = u1*y1 + u2*y2"
   ]
  },
  {
   "cell_type": "code",
   "execution_count": 5,
   "metadata": {},
   "outputs": [],
   "source": [
    "print(\"y_p is:\")\n",
    "y_p.simplify().show()"
   ]
  },
  {
   "cell_type": "markdown",
   "metadata": {},
   "source": [
    "Code wouldn't run, so I finished this problem by hand. See uploaded image in my box folder.\n",
    "\n",
    "Eric:  I like what you wrote up."
   ]
  },
  {
   "cell_type": "code",
   "execution_count": 0,
   "metadata": {},
   "outputs": [],
   "source": []
  },
  {
   "cell_type": "markdown",
   "metadata": {},
   "source": [
    "<h3>\n",
    "    Problem #4 from p.92 of Joyner Hampton\n",
    "</h3>\n",
    "Use Sage to solve $$y′′+ y = \\cot(x)$$"
   ]
  },
  {
   "cell_type": "code",
   "execution_count": 2,
   "metadata": {},
   "outputs": [
    {
     "data": {
      "text/plain": [
       "_K2*cos(x) + _K1*sin(x)"
      ]
     },
     "execution_count": 2,
     "metadata": {},
     "output_type": "execute_result"
    }
   ],
   "source": [
    "x = var('x')\n",
    "y = function('y')(x)\n",
    "desolve(diff(y,x,2)+y==0,y).simplify()"
   ]
  },
  {
   "cell_type": "code",
   "execution_count": 3,
   "metadata": {},
   "outputs": [],
   "source": [
    "y1 = cos(x)\n",
    "y2 = sin(x)\n",
    "R = cot(x)\n",
    "dy1 = diff(y1,x)\n",
    "dy2 = diff(y2,x)\n",
    "w = y1*dy2 - y2*dy1\n",
    "du1 = (-y2*R)/w\n",
    "du2 = (y1*R)/w"
   ]
  },
  {
   "cell_type": "code",
   "execution_count": 4,
   "metadata": {},
   "outputs": [],
   "source": [
    "u1 = integrate(du1,x)\n",
    "u2 = integrate(du2,x)"
   ]
  },
  {
   "cell_type": "code",
   "execution_count": 5,
   "metadata": {},
   "outputs": [
    {
     "name": "stdout",
     "output_type": "stream",
     "text": [
      "y_p is:\n"
     ]
    },
    {
     "data": {
      "text/html": [
       "<html><script type=\"math/tex; mode=display\">\\newcommand{\\Bold}[1]{\\mathbf{#1}}\\frac{1}{2} \\, {\\left(2 \\, \\cos\\left(x\\right) - \\log\\left(\\cos\\left(x\\right) + 1\\right) + \\log\\left(\\cos\\left(x\\right) - 1\\right)\\right)} \\sin\\left(x\\right) - \\cos\\left(x\\right) \\sin\\left(x\\right)</script></html>"
      ],
      "text/plain": [
       "1/2*(2*cos(x) - log(cos(x) + 1) + log(cos(x) - 1))*sin(x) - cos(x)*sin(x)"
      ]
     },
     "execution_count": 5,
     "metadata": {},
     "output_type": "execute_result"
    }
   ],
   "source": [
    "y_p = u1*y1 + u2*y2\n",
    "print(\"y_p is:\")\n",
    "y_p.simplify().show()"
   ]
  },
  {
   "cell_type": "markdown",
   "metadata": {},
   "source": [
    "So, the general solution is: $$y = A\\cos x + B\\sin x + \\frac{1}{2}(2\\cos(x)-\\log(\\cos(x)+1)+\\log(\\cos(x)-1))\\sin(x)-\\cos(x)\\sin(x)$$\n",
    "\n",
    "Eric:  Good.  I'm happy that you're getting comfortable using SAGE.  1/1."
   ]
  },
  {
   "cell_type": "markdown",
   "metadata": {},
   "source": [
    "<h3>\n",
    "    Problem #1 from pdf\n",
    "</h3>\n",
    "Show that the method of ‘variation of parameters’ leads to $$\\int_0^x f(t) sin(x − t) dt$$ as a particular solution to $y'' + y = f(x)$."
   ]
  },
  {
   "cell_type": "markdown",
   "metadata": {},
   "source": [
    "For $$y'' + y = 0$$ we know that there are two solutions $$y_1 = \\cos x$$ and $$y_2 = \\sin x$$.  Thus, our Wronskian is $$W = \\cos x \\cos x + \\sin x \\sin x = 1$$. Next, for $$y'' + y = f(x)$$, we will find a particular solution of form $$y_p = u_1y_1 + u_2y_2 = u_1 \\cos x + u_2 \\sin x$$.  By variation of parameters, we know that $$u_1' = \\frac{-y_2R}{W} = -\\sin x f(x)$$ and $$u_2' = \\frac{y_1R}{W} =\\cos x f(x)$$.  Thus, by the Fundamental Theorem of Calculus, $$u_1 = -\\int_0^x \\sin t f(t) dt$$ and $$u_2 = \\int_0^x \\cos t f(t) dt$$.  Plugging back into our equation for the particular solution, we get $$y_p = -\\int_0^x \\sin t f(t) dt \\cos x + \\int_0^x \\cos t f(t) dt sin(x)$$.  Since $\\cos x$ and $\\sin x$ are constant with respect to $t$, the equation becomes $$y_p = \\int_0^x f(t)\\sin x \\cos t dt - \\int_0^x f(t)\\cos x \\sin t dt$$.  And since $$\\sin x \\cos t - \\cos x \\sin t = \\sin (x - t)$$, we get $$y_p = \\int_0^x f(t) sin(x − t) dt$$.\n",
    "\n",
    "Eric:  Nice work 1/1."
   ]
  },
  {
   "cell_type": "markdown",
   "metadata": {},
   "source": [
    "<h3>\n",
    "    Problem #2 from pdf\n",
    "</h3>\n",
    "Find a similar solution to $y'' + k^2y = f(x)$, where $k$ is a positive constant."
   ]
  },
  {
   "cell_type": "markdown",
   "metadata": {},
   "source": [
    "For $$y'' + k^2y = 0$$ we know that there are two solutions $$y_1 = \\cos (kx)$$ and $$y_2 = \\sin (kx)$$.  Thus, our Wronskian is $$W = k\\cos (kx) \\cos (kx) + k\\sin (kx) \\sin (kx) = k$$. Next, for $$y'' + k^2y = f(x)$$, we will find a particular solution of form $$y_p = u_1y_1 + u_2y_2 = u_1 \\cos (kx) + u_2 \\sin (kx)$$.  By variation of parameters, we know that $$u_1' = \\frac{-y_2R}{W} = \\frac{-\\sin (kx) f(x)}{k}$$ and $$u_2' = \\frac{y_1R}{W} =\\frac{\\cos (kx) f(x)}{k}$$.  Thus, by the Fundamental Theorem of Calculus, $$u_1 = -\\frac{1}{k}\\int_0^x \\sin (kt) f(t) dt$$ and $$u_2 = \\frac{1}{k}\\int_0^x \\cos (kt) f(t) dt$$.  Plugging back into our equation for the particular solution, we get $$y_p = -\\frac{1}{k}\\int_0^x \\sin (kt) f(t) dt \\cos (kx) + \\frac{1}{k}\\int_0^x \\cos (kt) f(t) dt sin(kx)$$.  Since $\\cos (kx)$ and $\\sin (kx)$ are constant with respect to $t$, the equation becomes $$y_p = \\frac{1}{k}\\int_0^x f(t)\\sin (kx) \\cos (kt) dt - \\frac{1}{k}\\int_0^x f(t)\\cos (kx) \\sin (kt) dt$$.  And since $$\\sin x \\cos t - \\cos x \\sin t = \\sin (x - t)$$, we get $$y_p = \\frac{1}{k}\\int_0^x f(t) sin[k(x − t)] dt$$.\n",
    "\n",
    "Eric:  Good job 1/1."
   ]
  },
  {
   "cell_type": "markdown",
   "metadata": {},
   "source": [
    "<h3>\n",
    "    Problem #3 from pdf\n",
    "</h3>\n",
    "Find the general solution to $$x^2y'' − 2xy' + 2y = xe^{−x}$$"
   ]
  },
  {
   "cell_type": "code",
   "execution_count": 1,
   "metadata": {},
   "outputs": [
    {
     "data": {
      "text/plain": [
       "_K1*x^2 + _K2*x"
      ]
     },
     "execution_count": 1,
     "metadata": {},
     "output_type": "execute_result"
    }
   ],
   "source": [
    "x = var('x')\n",
    "y = function('y')(x)\n",
    "desolve(x^2*diff(y,x,2)-2*x*diff(y,x)+2*y==0,y)"
   ]
  },
  {
   "cell_type": "code",
   "execution_count": 1,
   "metadata": {},
   "outputs": [],
   "source": [
    "y1 = x\n",
    "y2 = x^2\n",
    "R = x*e^(-x)\n",
    "dy1 = diff(y1,x)\n",
    "dy2 = diff(y2,x)\n",
    "w = y1*dy2 - y2*dy1\n",
    "du1 = (-y2*R)/w\n",
    "du2 = (y1*R)/w"
   ]
  },
  {
   "cell_type": "code",
   "execution_count": 2,
   "metadata": {},
   "outputs": [],
   "source": [
    "u1 = integrate(du1,x)\n",
    "u2 = integrate(du2,x)"
   ]
  },
  {
   "cell_type": "markdown",
   "metadata": {},
   "source": [
    "The formulas you used for $u_j'$ don't work until you make the coeficient in the DE on $y''$ equal to one.  Ie, you have to use\n",
    "$$y''-(2/x)y'+(2/x^2)y=\\frac{1}{xe^x}.$$\n",
    "\n",
    ".5/1"
   ]
  },
  {
   "cell_type": "code",
   "execution_count": 3,
   "metadata": {},
   "outputs": [
    {
     "name": "stdout",
     "output_type": "stream",
     "text": [
      "y_p is:\n"
     ]
    },
    {
     "data": {
      "text/html": [
       "<html><script type=\"math/tex; mode=display\">\\newcommand{\\Bold}[1]{\\mathbf{#1}}{\\left(x + 1\\right)} x e^{\\left(-x\\right)} - x^{2} e^{\\left(-x\\right)}</script></html>"
      ],
      "text/plain": [
       "(x + 1)*x*e^(-x) - x^2*e^(-x)"
      ]
     },
     "execution_count": 3,
     "metadata": {},
     "output_type": "execute_result"
    }
   ],
   "source": [
    "y_p = u1*y1 + u2*y2\n",
    "print(\"y_p is:\")\n",
    "y_p.simplify().show()"
   ]
  },
  {
   "cell_type": "markdown",
   "metadata": {},
   "source": [
    "So the general solution is: $$y = Ax^2 + Bx + (x+1)xe^{-x}-x^2e^{-x}$$"
   ]
  },
  {
   "cell_type": "code",
   "execution_count": 0,
   "metadata": {},
   "outputs": [],
   "source": []
  }
 ],
 "metadata": {
  "kernelspec": {
   "display_name": "SageMath 9.1",
   "language": "sage",
   "name": "sagemath"
  },
  "language_info": {
   "codemirror_mode": {
    "name": "ipython",
    "version": 3
   },
   "file_extension": ".py",
   "mimetype": "text/x-python",
   "name": "python",
   "nbconvert_exporter": "python",
   "pygments_lexer": "ipython3",
   "version": "3.7.3"
  }
 },
 "nbformat": 4,
 "nbformat_minor": 4
}
